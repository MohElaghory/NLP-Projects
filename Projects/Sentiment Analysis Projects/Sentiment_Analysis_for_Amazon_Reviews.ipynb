{
  "nbformat": 4,
  "nbformat_minor": 0,
  "metadata": {
    "colab": {
      "name": "Sentiment Analysis for Amazon Reviews.ipynb",
      "provenance": [],
      "collapsed_sections": []
    },
    "kernelspec": {
      "name": "python3",
      "display_name": "Python 3"
    },
    "language_info": {
      "name": "python"
    },
    "accelerator": "GPU",
    "gpuClass": "standard"
  },
  "cells": [
    {
      "cell_type": "code",
      "execution_count": 1,
      "metadata": {
        "colab": {
          "base_uri": "https://localhost:8080/"
        },
        "id": "nNn6QktaCUHx",
        "outputId": "5d1ba627-404c-4312-9768-1abe72a687f5"
      },
      "outputs": [
        {
          "output_type": "stream",
          "name": "stdout",
          "text": [
            "Looking in indexes: https://pypi.org/simple, https://us-python.pkg.dev/colab-wheels/public/simple/\n",
            "Requirement already satisfied: textblob in /usr/local/lib/python3.7/dist-packages (0.15.3)\n",
            "Requirement already satisfied: nltk>=3.1 in /usr/local/lib/python3.7/dist-packages (from textblob) (3.7)\n",
            "Requirement already satisfied: click in /usr/local/lib/python3.7/dist-packages (from nltk>=3.1->textblob) (7.1.2)\n",
            "Requirement already satisfied: regex>=2021.8.3 in /usr/local/lib/python3.7/dist-packages (from nltk>=3.1->textblob) (2022.6.2)\n",
            "Requirement already satisfied: tqdm in /usr/local/lib/python3.7/dist-packages (from nltk>=3.1->textblob) (4.64.0)\n",
            "Requirement already satisfied: joblib in /usr/local/lib/python3.7/dist-packages (from nltk>=3.1->textblob) (1.1.0)\n"
          ]
        }
      ],
      "source": [
        "! pip install textblob"
      ]
    },
    {
      "cell_type": "code",
      "source": [
        "! pip install wordcloud"
      ],
      "metadata": {
        "colab": {
          "base_uri": "https://localhost:8080/"
        },
        "id": "ErTYlyJDCcVf",
        "outputId": "c6f76b24-2e20-4ac9-f53f-f883ff81414c"
      },
      "execution_count": 2,
      "outputs": [
        {
          "output_type": "stream",
          "name": "stdout",
          "text": [
            "Looking in indexes: https://pypi.org/simple, https://us-python.pkg.dev/colab-wheels/public/simple/\n",
            "Requirement already satisfied: wordcloud in /usr/local/lib/python3.7/dist-packages (1.5.0)\n",
            "Requirement already satisfied: pillow in /usr/local/lib/python3.7/dist-packages (from wordcloud) (7.1.2)\n",
            "Requirement already satisfied: numpy>=1.6.1 in /usr/local/lib/python3.7/dist-packages (from wordcloud) (1.21.6)\n"
          ]
        }
      ]
    },
    {
      "cell_type": "code",
      "source": [
        "! pip install nltk"
      ],
      "metadata": {
        "colab": {
          "base_uri": "https://localhost:8080/"
        },
        "id": "sZNQca6oCiZg",
        "outputId": "251ae4cb-8c40-4d64-c559-45ade1cfb187"
      },
      "execution_count": 3,
      "outputs": [
        {
          "output_type": "stream",
          "name": "stdout",
          "text": [
            "Looking in indexes: https://pypi.org/simple, https://us-python.pkg.dev/colab-wheels/public/simple/\n",
            "Requirement already satisfied: nltk in /usr/local/lib/python3.7/dist-packages (3.7)\n",
            "Requirement already satisfied: regex>=2021.8.3 in /usr/local/lib/python3.7/dist-packages (from nltk) (2022.6.2)\n",
            "Requirement already satisfied: joblib in /usr/local/lib/python3.7/dist-packages (from nltk) (1.1.0)\n",
            "Requirement already satisfied: tqdm in /usr/local/lib/python3.7/dist-packages (from nltk) (4.64.0)\n",
            "Requirement already satisfied: click in /usr/local/lib/python3.7/dist-packages (from nltk) (7.1.2)\n"
          ]
        }
      ]
    },
    {
      "cell_type": "code",
      "source": [
        "from warnings import filterwarnings\n",
        "import matplotlib.pyplot as plt\n",
        "import numpy as np\n",
        "import pandas as pd\n",
        "from PIL import Image\n",
        "import nltk\n",
        "from nltk.corpus import stopwords\n",
        "from sklearn.model_selection import cross_val_score, GridSearchCV, cross_validate\n",
        "from sklearn.preprocessing import LabelEncoder\n",
        "from textblob import Word, TextBlob\n",
        "from wordcloud import WordCloud\n",
        "\n",
        "import os\n",
        "import re\n",
        "import string\n",
        "import nltk\n",
        "import unicodedata\n",
        "import html\n",
        "\n",
        "nltk.download('punkt')\n",
        "from nltk.tokenize import word_tokenize\n",
        "from nltk.corpus import stopwords\n",
        "nltk.download('stopwords')\n",
        "from nltk.stem.porter import PorterStemmer\n",
        "from nltk.stem import WordNetLemmatizer\n",
        "nltk.download('wordnet')\n",
        "from nltk.corpus import wordnet\n",
        "stop_words = stopwords.words('english')\n",
        "\n",
        "filterwarnings('ignore')\n",
        "pd.set_option('display.max_columns', None)\n",
        "pd.set_option('display.width', 200)\n",
        "pd.set_option('display.float_format', lambda x: '%.2f' % x)"
      ],
      "metadata": {
        "colab": {
          "base_uri": "https://localhost:8080/"
        },
        "id": "uHu4bKynCk5H",
        "outputId": "2aa967a3-c71a-4338-b6ba-0b10324758e7"
      },
      "execution_count": 4,
      "outputs": [
        {
          "output_type": "stream",
          "name": "stderr",
          "text": [
            "[nltk_data] Downloading package punkt to /root/nltk_data...\n",
            "[nltk_data]   Unzipping tokenizers/punkt.zip.\n",
            "[nltk_data] Downloading package stopwords to /root/nltk_data...\n",
            "[nltk_data]   Unzipping corpora/stopwords.zip.\n",
            "[nltk_data] Downloading package wordnet to /root/nltk_data...\n"
          ]
        }
      ]
    },
    {
      "cell_type": "code",
      "source": [
        "nltk.download('omw-1.4')"
      ],
      "metadata": {
        "colab": {
          "base_uri": "https://localhost:8080/"
        },
        "id": "nfe9gHqzar_T",
        "outputId": "28aaab38-c10e-442a-d1c0-3a50d5d65fdd"
      },
      "execution_count": 5,
      "outputs": [
        {
          "output_type": "stream",
          "name": "stderr",
          "text": [
            "[nltk_data] Downloading package omw-1.4 to /root/nltk_data...\n"
          ]
        },
        {
          "output_type": "execute_result",
          "data": {
            "text/plain": [
              "True"
            ]
          },
          "metadata": {},
          "execution_count": 5
        }
      ]
    },
    {
      "cell_type": "code",
      "source": [
        "from google.colab import files\n",
        "uploaded = files.upload()           # Upload [amazon_reviews.csv]"
      ],
      "metadata": {
        "colab": {
          "resources": {
            "http://localhost:8080/nbextensions/google.colab/files.js": {
              "data": "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",
              "ok": true,
              "headers": [
                [
                  "content-type",
                  "application/javascript"
                ]
              ],
              "status": 200,
              "status_text": ""
            }
          },
          "base_uri": "https://localhost:8080/",
          "height": 73
        },
        "id": "00mSXa2GNrJH",
        "outputId": "233ddace-417e-42d5-d737-1237c0477bb4"
      },
      "execution_count": 6,
      "outputs": [
        {
          "output_type": "display_data",
          "data": {
            "text/plain": [
              "<IPython.core.display.HTML object>"
            ],
            "text/html": [
              "\n",
              "     <input type=\"file\" id=\"files-ad443c75-97da-4ada-affa-7ed3a06374f0\" name=\"files[]\" multiple disabled\n",
              "        style=\"border:none\" />\n",
              "     <output id=\"result-ad443c75-97da-4ada-affa-7ed3a06374f0\">\n",
              "      Upload widget is only available when the cell has been executed in the\n",
              "      current browser session. Please rerun this cell to enable.\n",
              "      </output>\n",
              "      <script src=\"/nbextensions/google.colab/files.js\"></script> "
            ]
          },
          "metadata": {}
        },
        {
          "output_type": "stream",
          "name": "stdout",
          "text": [
            "Saving amazon_reviews.csv to amazon_reviews.csv\n"
          ]
        }
      ]
    },
    {
      "cell_type": "code",
      "source": [
        "df = pd.read_csv(\"amazon_reviews.csv\")\n",
        "df.head()"
      ],
      "metadata": {
        "colab": {
          "base_uri": "https://localhost:8080/",
          "height": 565
        },
        "id": "y-i4Gs0yJbfp",
        "outputId": "cd423ecc-e783-412d-a157-2db051d4dcb4"
      },
      "execution_count": 7,
      "outputs": [
        {
          "output_type": "execute_result",
          "data": {
            "text/plain": [
              "       reviewerID        asin  reviewerName helpful                                         reviewText  overall                                 summary  unixReviewTime  reviewTime  day_diff  \\\n",
              "0  A3SBTW3WS4IQSN  B007WTAJTO           NaN  [0, 0]                                         No issues.     4.00                              Four Stars      1406073600  2014-07-23       138   \n",
              "1  A18K1ODH1I2MVB  B007WTAJTO          0mie  [0, 0]  Purchased this for my device, it worked as adv...     5.00                           MOAR SPACE!!!      1382659200  2013-10-25       409   \n",
              "2  A2FII3I2MBMUIA  B007WTAJTO           1K3  [0, 0]  it works as expected. I should have sprung for...     4.00               nothing to really say....      1356220800  2012-12-23       715   \n",
              "3   A3H99DFEG68SR  B007WTAJTO           1m2  [0, 0]  This think has worked out great.Had a diff. br...     5.00  Great buy at this price!!!  *** UPDATE      1384992000  2013-11-21       382   \n",
              "4  A375ZM4U047O79  B007WTAJTO  2&amp;1/2Men  [0, 0]  Bought it with Retail Packaging, arrived legit...     5.00                        best deal around      1373673600  2013-07-13       513   \n",
              "\n",
              "   helpful_yes  total_vote  \n",
              "0            0           0  \n",
              "1            0           0  \n",
              "2            0           0  \n",
              "3            0           0  \n",
              "4            0           0  "
            ],
            "text/html": [
              "\n",
              "  <div id=\"df-e2babdb8-0a28-4e84-b443-96f534cc96cf\">\n",
              "    <div class=\"colab-df-container\">\n",
              "      <div>\n",
              "<style scoped>\n",
              "    .dataframe tbody tr th:only-of-type {\n",
              "        vertical-align: middle;\n",
              "    }\n",
              "\n",
              "    .dataframe tbody tr th {\n",
              "        vertical-align: top;\n",
              "    }\n",
              "\n",
              "    .dataframe thead th {\n",
              "        text-align: right;\n",
              "    }\n",
              "</style>\n",
              "<table border=\"1\" class=\"dataframe\">\n",
              "  <thead>\n",
              "    <tr style=\"text-align: right;\">\n",
              "      <th></th>\n",
              "      <th>reviewerID</th>\n",
              "      <th>asin</th>\n",
              "      <th>reviewerName</th>\n",
              "      <th>helpful</th>\n",
              "      <th>reviewText</th>\n",
              "      <th>overall</th>\n",
              "      <th>summary</th>\n",
              "      <th>unixReviewTime</th>\n",
              "      <th>reviewTime</th>\n",
              "      <th>day_diff</th>\n",
              "      <th>helpful_yes</th>\n",
              "      <th>total_vote</th>\n",
              "    </tr>\n",
              "  </thead>\n",
              "  <tbody>\n",
              "    <tr>\n",
              "      <th>0</th>\n",
              "      <td>A3SBTW3WS4IQSN</td>\n",
              "      <td>B007WTAJTO</td>\n",
              "      <td>NaN</td>\n",
              "      <td>[0, 0]</td>\n",
              "      <td>No issues.</td>\n",
              "      <td>4.00</td>\n",
              "      <td>Four Stars</td>\n",
              "      <td>1406073600</td>\n",
              "      <td>2014-07-23</td>\n",
              "      <td>138</td>\n",
              "      <td>0</td>\n",
              "      <td>0</td>\n",
              "    </tr>\n",
              "    <tr>\n",
              "      <th>1</th>\n",
              "      <td>A18K1ODH1I2MVB</td>\n",
              "      <td>B007WTAJTO</td>\n",
              "      <td>0mie</td>\n",
              "      <td>[0, 0]</td>\n",
              "      <td>Purchased this for my device, it worked as adv...</td>\n",
              "      <td>5.00</td>\n",
              "      <td>MOAR SPACE!!!</td>\n",
              "      <td>1382659200</td>\n",
              "      <td>2013-10-25</td>\n",
              "      <td>409</td>\n",
              "      <td>0</td>\n",
              "      <td>0</td>\n",
              "    </tr>\n",
              "    <tr>\n",
              "      <th>2</th>\n",
              "      <td>A2FII3I2MBMUIA</td>\n",
              "      <td>B007WTAJTO</td>\n",
              "      <td>1K3</td>\n",
              "      <td>[0, 0]</td>\n",
              "      <td>it works as expected. I should have sprung for...</td>\n",
              "      <td>4.00</td>\n",
              "      <td>nothing to really say....</td>\n",
              "      <td>1356220800</td>\n",
              "      <td>2012-12-23</td>\n",
              "      <td>715</td>\n",
              "      <td>0</td>\n",
              "      <td>0</td>\n",
              "    </tr>\n",
              "    <tr>\n",
              "      <th>3</th>\n",
              "      <td>A3H99DFEG68SR</td>\n",
              "      <td>B007WTAJTO</td>\n",
              "      <td>1m2</td>\n",
              "      <td>[0, 0]</td>\n",
              "      <td>This think has worked out great.Had a diff. br...</td>\n",
              "      <td>5.00</td>\n",
              "      <td>Great buy at this price!!!  *** UPDATE</td>\n",
              "      <td>1384992000</td>\n",
              "      <td>2013-11-21</td>\n",
              "      <td>382</td>\n",
              "      <td>0</td>\n",
              "      <td>0</td>\n",
              "    </tr>\n",
              "    <tr>\n",
              "      <th>4</th>\n",
              "      <td>A375ZM4U047O79</td>\n",
              "      <td>B007WTAJTO</td>\n",
              "      <td>2&amp;amp;1/2Men</td>\n",
              "      <td>[0, 0]</td>\n",
              "      <td>Bought it with Retail Packaging, arrived legit...</td>\n",
              "      <td>5.00</td>\n",
              "      <td>best deal around</td>\n",
              "      <td>1373673600</td>\n",
              "      <td>2013-07-13</td>\n",
              "      <td>513</td>\n",
              "      <td>0</td>\n",
              "      <td>0</td>\n",
              "    </tr>\n",
              "  </tbody>\n",
              "</table>\n",
              "</div>\n",
              "      <button class=\"colab-df-convert\" onclick=\"convertToInteractive('df-e2babdb8-0a28-4e84-b443-96f534cc96cf')\"\n",
              "              title=\"Convert this dataframe to an interactive table.\"\n",
              "              style=\"display:none;\">\n",
              "        \n",
              "  <svg xmlns=\"http://www.w3.org/2000/svg\" height=\"24px\"viewBox=\"0 0 24 24\"\n",
              "       width=\"24px\">\n",
              "    <path d=\"M0 0h24v24H0V0z\" fill=\"none\"/>\n",
              "    <path d=\"M18.56 5.44l.94 2.06.94-2.06 2.06-.94-2.06-.94-.94-2.06-.94 2.06-2.06.94zm-11 1L8.5 8.5l.94-2.06 2.06-.94-2.06-.94L8.5 2.5l-.94 2.06-2.06.94zm10 10l.94 2.06.94-2.06 2.06-.94-2.06-.94-.94-2.06-.94 2.06-2.06.94z\"/><path d=\"M17.41 7.96l-1.37-1.37c-.4-.4-.92-.59-1.43-.59-.52 0-1.04.2-1.43.59L10.3 9.45l-7.72 7.72c-.78.78-.78 2.05 0 2.83L4 21.41c.39.39.9.59 1.41.59.51 0 1.02-.2 1.41-.59l7.78-7.78 2.81-2.81c.8-.78.8-2.07 0-2.86zM5.41 20L4 18.59l7.72-7.72 1.47 1.35L5.41 20z\"/>\n",
              "  </svg>\n",
              "      </button>\n",
              "      \n",
              "  <style>\n",
              "    .colab-df-container {\n",
              "      display:flex;\n",
              "      flex-wrap:wrap;\n",
              "      gap: 12px;\n",
              "    }\n",
              "\n",
              "    .colab-df-convert {\n",
              "      background-color: #E8F0FE;\n",
              "      border: none;\n",
              "      border-radius: 50%;\n",
              "      cursor: pointer;\n",
              "      display: none;\n",
              "      fill: #1967D2;\n",
              "      height: 32px;\n",
              "      padding: 0 0 0 0;\n",
              "      width: 32px;\n",
              "    }\n",
              "\n",
              "    .colab-df-convert:hover {\n",
              "      background-color: #E2EBFA;\n",
              "      box-shadow: 0px 1px 2px rgba(60, 64, 67, 0.3), 0px 1px 3px 1px rgba(60, 64, 67, 0.15);\n",
              "      fill: #174EA6;\n",
              "    }\n",
              "\n",
              "    [theme=dark] .colab-df-convert {\n",
              "      background-color: #3B4455;\n",
              "      fill: #D2E3FC;\n",
              "    }\n",
              "\n",
              "    [theme=dark] .colab-df-convert:hover {\n",
              "      background-color: #434B5C;\n",
              "      box-shadow: 0px 1px 3px 1px rgba(0, 0, 0, 0.15);\n",
              "      filter: drop-shadow(0px 1px 2px rgba(0, 0, 0, 0.3));\n",
              "      fill: #FFFFFF;\n",
              "    }\n",
              "  </style>\n",
              "\n",
              "      <script>\n",
              "        const buttonEl =\n",
              "          document.querySelector('#df-e2babdb8-0a28-4e84-b443-96f534cc96cf button.colab-df-convert');\n",
              "        buttonEl.style.display =\n",
              "          google.colab.kernel.accessAllowed ? 'block' : 'none';\n",
              "\n",
              "        async function convertToInteractive(key) {\n",
              "          const element = document.querySelector('#df-e2babdb8-0a28-4e84-b443-96f534cc96cf');\n",
              "          const dataTable =\n",
              "            await google.colab.kernel.invokeFunction('convertToInteractive',\n",
              "                                                     [key], {});\n",
              "          if (!dataTable) return;\n",
              "\n",
              "          const docLinkHtml = 'Like what you see? Visit the ' +\n",
              "            '<a target=\"_blank\" href=https://colab.research.google.com/notebooks/data_table.ipynb>data table notebook</a>'\n",
              "            + ' to learn more about interactive tables.';\n",
              "          element.innerHTML = '';\n",
              "          dataTable['output_type'] = 'display_data';\n",
              "          await google.colab.output.renderOutput(dataTable, element);\n",
              "          const docLink = document.createElement('div');\n",
              "          docLink.innerHTML = docLinkHtml;\n",
              "          element.appendChild(docLink);\n",
              "        }\n",
              "      </script>\n",
              "    </div>\n",
              "  </div>\n",
              "  "
            ]
          },
          "metadata": {},
          "execution_count": 7
        }
      ]
    },
    {
      "cell_type": "code",
      "source": [
        "df.info()"
      ],
      "metadata": {
        "colab": {
          "base_uri": "https://localhost:8080/"
        },
        "id": "qcCjWFSGKoR3",
        "outputId": "cc3d3c3c-37cb-4b3f-ee43-53edca7c4c78"
      },
      "execution_count": 8,
      "outputs": [
        {
          "output_type": "stream",
          "name": "stdout",
          "text": [
            "<class 'pandas.core.frame.DataFrame'>\n",
            "RangeIndex: 4915 entries, 0 to 4914\n",
            "Data columns (total 12 columns):\n",
            " #   Column          Non-Null Count  Dtype  \n",
            "---  ------          --------------  -----  \n",
            " 0   reviewerID      4915 non-null   object \n",
            " 1   asin            4915 non-null   object \n",
            " 2   reviewerName    4914 non-null   object \n",
            " 3   helpful         4915 non-null   object \n",
            " 4   reviewText      4914 non-null   object \n",
            " 5   overall         4915 non-null   float64\n",
            " 6   summary         4915 non-null   object \n",
            " 7   unixReviewTime  4915 non-null   int64  \n",
            " 8   reviewTime      4915 non-null   object \n",
            " 9   day_diff        4915 non-null   int64  \n",
            " 10  helpful_yes     4915 non-null   int64  \n",
            " 11  total_vote      4915 non-null   int64  \n",
            "dtypes: float64(1), int64(4), object(7)\n",
            "memory usage: 460.9+ KB\n"
          ]
        }
      ]
    },
    {
      "cell_type": "markdown",
      "source": [
        "# `1.` Text Preprocessing"
      ],
      "metadata": {
        "id": "G4gyAtQ4P-h1"
      }
    },
    {
      "cell_type": "code",
      "source": [
        "# pre-processing دي كده فانكشن كبيره بتعملي كل اللي انا عاملته فوق كله يعني بتعملي كل ال\n",
        "def remove_special_chars(text):\n",
        "    re1 = re.compile(r'  +')\n",
        "    x1 = text.lower().replace('#39;', \"'\").replace('amp;', '&').replace('#146;', \"'\").replace(\n",
        "        'nbsp;', ' ').replace('#36;', '$').replace('\\\\n', \"\\n\").replace('quot;', \"'\").replace(\n",
        "        '<br />', \"\\n\").replace('\\\\\"', '\"').replace('<unk>', 'u_n').replace(' @.@ ', '.').replace(\n",
        "        ' @-@ ', '-').replace('\\\\', ' \\\\ ')\n",
        "    return re1.sub(' ', html.unescape(x1))\n",
        "\n",
        "\n",
        "def remove_non_ascii(text):\n",
        "    \"\"\"Remove non-ASCII characters from list of tokenized words\"\"\"\n",
        "    return unicodedata.normalize('NFKD', text).encode('ascii', 'ignore').decode('utf-8', 'ignore')\n",
        "\n",
        "\n",
        "\n",
        "def remove_punctuation(text):\n",
        "    \"\"\"Remove punctuation from list of tokenized words\"\"\"\n",
        "    translator = str.maketrans('', '', string.punctuation)\n",
        "    return text.translate(translator)\n",
        "\n",
        "\n",
        "def to_lowercase(text):\n",
        "    return text.lower()\n",
        "\n",
        "\n",
        "def replace_numbers(text):\n",
        "    \"\"\"Replace all interger occurrences in list of tokenized words with textual representation\"\"\"\n",
        "    return re.sub(r'\\d+', '', text)\n",
        "\n",
        "\n",
        "def remove_whitespaces(text):\n",
        "    return text.strip()\n",
        "\n",
        "\n",
        "def text2words(text):\n",
        "    return word_tokenize(text)\n",
        "\n",
        "\n",
        "def remove_stopwords(words, stop_words):\n",
        "    \"\"\"\n",
        "    :param words:\n",
        "    :type words:\n",
        "    :param stop_words: from sklearn.feature_extraction.stop_words import ENGLISH_STOP_WORDS\n",
        "    or\n",
        "    from spacy.lang.en.stop_words import STOP_WORDS\n",
        "    :type stop_words:\n",
        "    :return:\n",
        "    :rtype:\n",
        "    \"\"\"\n",
        "    return [word for word in words if word not in stop_words]\n",
        "\n",
        "\n",
        "def stem_words(words):\n",
        "    \"\"\"Stem words in text\"\"\"\n",
        "    stemmer = PorterStemmer()\n",
        "    return [stemmer.stem(word) for word in words]\n",
        "\n",
        "def lemmatize_words(words):\n",
        "    \"\"\"Lemmatize words in text\"\"\"\n",
        "\n",
        "    lemmatizer = WordNetLemmatizer()\n",
        "    return [lemmatizer.lemmatize(word) for word in words]\n",
        "\n",
        "def lemmatize_verbs(words):\n",
        "    \"\"\"Lemmatize verbs in text\"\"\"\n",
        "\n",
        "    lemmatizer = WordNetLemmatizer()\n",
        "    return ' '.join([lemmatizer.lemmatize(word, pos='v') for word in words])\n",
        "\n",
        "\n",
        "def normalize_text(text):\n",
        "    text = remove_special_chars(text)\n",
        "    text = remove_non_ascii(text)\n",
        "    text = remove_punctuation(text)\n",
        "    text = to_lowercase(text)\n",
        "    text = replace_numbers(text)\n",
        "    text = remove_whitespaces(text)\n",
        "    words = text2words(text)\n",
        "    words = remove_stopwords(words, stop_words)\n",
        "    #words = stem_words(words)# Either stem ovocar lemmatize\n",
        "    words = lemmatize_words(words)\n",
        "    words = lemmatize_verbs(words)\n",
        "\n",
        "    return ''.join(words) "
      ],
      "metadata": {
        "id": "U5A5FBMtWph0"
      },
      "execution_count": 9,
      "outputs": []
    },
    {
      "cell_type": "code",
      "source": [
        "df['reviewText'] = df['reviewText'].apply(lambda x: normalize_text(x) if (type(x) == str) else np.nan)\n",
        "df['reviewText']"
      ],
      "metadata": {
        "colab": {
          "base_uri": "https://localhost:8080/"
        },
        "id": "vEnEw-MVYYLi",
        "outputId": "cc0cfc42-3b52-45c8-c033-bd75758c948b"
      },
      "execution_count": 10,
      "outputs": [
        {
          "output_type": "execute_result",
          "data": {
            "text/plain": [
              "0                                                   issue\n",
              "1       purchase device work advertise never much phon...\n",
              "2       work expect spring higher capacity think make ...\n",
              "3       think work greathad diff bran gb card go south...\n",
              "4       buy retail package arrive legit orange envelop...\n",
              "                              ...                        \n",
              "4910    buy sandisk gb class use htc inspire month get...\n",
              "4911    use extend capability samsung galaxy note grea...\n",
              "4912    great card fast reliable come optional adapter...\n",
              "4913           good amount space stuff want fit gopro say\n",
              "4914    ive hear bad thing gb micro sd card crap week ...\n",
              "Name: reviewText, Length: 4915, dtype: object"
            ]
          },
          "metadata": {},
          "execution_count": 10
        }
      ]
    },
    {
      "cell_type": "code",
      "source": [
        "df.isna().sum()"
      ],
      "metadata": {
        "colab": {
          "base_uri": "https://localhost:8080/"
        },
        "id": "Fp47zVaHiKC3",
        "outputId": "a4cbdc48-c303-47e1-809e-14ab1f2285c1"
      },
      "execution_count": 11,
      "outputs": [
        {
          "output_type": "execute_result",
          "data": {
            "text/plain": [
              "reviewerID        0\n",
              "asin              0\n",
              "reviewerName      1\n",
              "helpful           0\n",
              "reviewText        1\n",
              "overall           0\n",
              "summary           0\n",
              "unixReviewTime    0\n",
              "reviewTime        0\n",
              "day_diff          0\n",
              "helpful_yes       0\n",
              "total_vote        0\n",
              "dtype: int64"
            ]
          },
          "metadata": {},
          "execution_count": 11
        }
      ]
    },
    {
      "cell_type": "code",
      "source": [
        "df.dropna(inplace= True)"
      ],
      "metadata": {
        "id": "oSc4-wPDitRS"
      },
      "execution_count": 12,
      "outputs": []
    },
    {
      "cell_type": "code",
      "source": [
        "df.isna().sum()"
      ],
      "metadata": {
        "colab": {
          "base_uri": "https://localhost:8080/"
        },
        "id": "jHmz6GSpi04H",
        "outputId": "cb2ae875-fc10-499c-89da-1c2e450bce42"
      },
      "execution_count": 13,
      "outputs": [
        {
          "output_type": "execute_result",
          "data": {
            "text/plain": [
              "reviewerID        0\n",
              "asin              0\n",
              "reviewerName      0\n",
              "helpful           0\n",
              "reviewText        0\n",
              "overall           0\n",
              "summary           0\n",
              "unixReviewTime    0\n",
              "reviewTime        0\n",
              "day_diff          0\n",
              "helpful_yes       0\n",
              "total_vote        0\n",
              "dtype: int64"
            ]
          },
          "metadata": {},
          "execution_count": 13
        }
      ]
    },
    {
      "cell_type": "markdown",
      "source": [
        "# `2.` Text Visualization"
      ],
      "metadata": {
        "id": "E6BUoeLAhN2j"
      }
    },
    {
      "cell_type": "code",
      "source": [
        "# Get Term Frequency [TF]:\n",
        "\n",
        "tf = df[\"reviewText\"].apply(lambda x: pd.value_counts(x.split(\" \"))).sum(axis=0).reset_index()\n",
        "tf.columns = [\"words\", \"tf\"]             # make columns names [\"words\", \"tf\"]\n",
        "tf.head()"
      ],
      "metadata": {
        "colab": {
          "base_uri": "https://localhost:8080/",
          "height": 206
        },
        "id": "CiINiSpdZb6x",
        "outputId": "a7cf6786-9722-4d32-fc81-cbfa75871c36"
      },
      "execution_count": 14,
      "outputs": [
        {
          "output_type": "execute_result",
          "data": {
            "text/plain": [
              "       words      tf\n",
              "0   purchase  540.00\n",
              "1     device  584.00\n",
              "2       work 2774.00\n",
              "3  advertise  121.00\n",
              "4      never  358.00"
            ],
            "text/html": [
              "\n",
              "  <div id=\"df-2b66dd19-5f20-40d8-80c1-e5d698bd2716\">\n",
              "    <div class=\"colab-df-container\">\n",
              "      <div>\n",
              "<style scoped>\n",
              "    .dataframe tbody tr th:only-of-type {\n",
              "        vertical-align: middle;\n",
              "    }\n",
              "\n",
              "    .dataframe tbody tr th {\n",
              "        vertical-align: top;\n",
              "    }\n",
              "\n",
              "    .dataframe thead th {\n",
              "        text-align: right;\n",
              "    }\n",
              "</style>\n",
              "<table border=\"1\" class=\"dataframe\">\n",
              "  <thead>\n",
              "    <tr style=\"text-align: right;\">\n",
              "      <th></th>\n",
              "      <th>words</th>\n",
              "      <th>tf</th>\n",
              "    </tr>\n",
              "  </thead>\n",
              "  <tbody>\n",
              "    <tr>\n",
              "      <th>0</th>\n",
              "      <td>purchase</td>\n",
              "      <td>540.00</td>\n",
              "    </tr>\n",
              "    <tr>\n",
              "      <th>1</th>\n",
              "      <td>device</td>\n",
              "      <td>584.00</td>\n",
              "    </tr>\n",
              "    <tr>\n",
              "      <th>2</th>\n",
              "      <td>work</td>\n",
              "      <td>2774.00</td>\n",
              "    </tr>\n",
              "    <tr>\n",
              "      <th>3</th>\n",
              "      <td>advertise</td>\n",
              "      <td>121.00</td>\n",
              "    </tr>\n",
              "    <tr>\n",
              "      <th>4</th>\n",
              "      <td>never</td>\n",
              "      <td>358.00</td>\n",
              "    </tr>\n",
              "  </tbody>\n",
              "</table>\n",
              "</div>\n",
              "      <button class=\"colab-df-convert\" onclick=\"convertToInteractive('df-2b66dd19-5f20-40d8-80c1-e5d698bd2716')\"\n",
              "              title=\"Convert this dataframe to an interactive table.\"\n",
              "              style=\"display:none;\">\n",
              "        \n",
              "  <svg xmlns=\"http://www.w3.org/2000/svg\" height=\"24px\"viewBox=\"0 0 24 24\"\n",
              "       width=\"24px\">\n",
              "    <path d=\"M0 0h24v24H0V0z\" fill=\"none\"/>\n",
              "    <path d=\"M18.56 5.44l.94 2.06.94-2.06 2.06-.94-2.06-.94-.94-2.06-.94 2.06-2.06.94zm-11 1L8.5 8.5l.94-2.06 2.06-.94-2.06-.94L8.5 2.5l-.94 2.06-2.06.94zm10 10l.94 2.06.94-2.06 2.06-.94-2.06-.94-.94-2.06-.94 2.06-2.06.94z\"/><path d=\"M17.41 7.96l-1.37-1.37c-.4-.4-.92-.59-1.43-.59-.52 0-1.04.2-1.43.59L10.3 9.45l-7.72 7.72c-.78.78-.78 2.05 0 2.83L4 21.41c.39.39.9.59 1.41.59.51 0 1.02-.2 1.41-.59l7.78-7.78 2.81-2.81c.8-.78.8-2.07 0-2.86zM5.41 20L4 18.59l7.72-7.72 1.47 1.35L5.41 20z\"/>\n",
              "  </svg>\n",
              "      </button>\n",
              "      \n",
              "  <style>\n",
              "    .colab-df-container {\n",
              "      display:flex;\n",
              "      flex-wrap:wrap;\n",
              "      gap: 12px;\n",
              "    }\n",
              "\n",
              "    .colab-df-convert {\n",
              "      background-color: #E8F0FE;\n",
              "      border: none;\n",
              "      border-radius: 50%;\n",
              "      cursor: pointer;\n",
              "      display: none;\n",
              "      fill: #1967D2;\n",
              "      height: 32px;\n",
              "      padding: 0 0 0 0;\n",
              "      width: 32px;\n",
              "    }\n",
              "\n",
              "    .colab-df-convert:hover {\n",
              "      background-color: #E2EBFA;\n",
              "      box-shadow: 0px 1px 2px rgba(60, 64, 67, 0.3), 0px 1px 3px 1px rgba(60, 64, 67, 0.15);\n",
              "      fill: #174EA6;\n",
              "    }\n",
              "\n",
              "    [theme=dark] .colab-df-convert {\n",
              "      background-color: #3B4455;\n",
              "      fill: #D2E3FC;\n",
              "    }\n",
              "\n",
              "    [theme=dark] .colab-df-convert:hover {\n",
              "      background-color: #434B5C;\n",
              "      box-shadow: 0px 1px 3px 1px rgba(0, 0, 0, 0.15);\n",
              "      filter: drop-shadow(0px 1px 2px rgba(0, 0, 0, 0.3));\n",
              "      fill: #FFFFFF;\n",
              "    }\n",
              "  </style>\n",
              "\n",
              "      <script>\n",
              "        const buttonEl =\n",
              "          document.querySelector('#df-2b66dd19-5f20-40d8-80c1-e5d698bd2716 button.colab-df-convert');\n",
              "        buttonEl.style.display =\n",
              "          google.colab.kernel.accessAllowed ? 'block' : 'none';\n",
              "\n",
              "        async function convertToInteractive(key) {\n",
              "          const element = document.querySelector('#df-2b66dd19-5f20-40d8-80c1-e5d698bd2716');\n",
              "          const dataTable =\n",
              "            await google.colab.kernel.invokeFunction('convertToInteractive',\n",
              "                                                     [key], {});\n",
              "          if (!dataTable) return;\n",
              "\n",
              "          const docLinkHtml = 'Like what you see? Visit the ' +\n",
              "            '<a target=\"_blank\" href=https://colab.research.google.com/notebooks/data_table.ipynb>data table notebook</a>'\n",
              "            + ' to learn more about interactive tables.';\n",
              "          element.innerHTML = '';\n",
              "          dataTable['output_type'] = 'display_data';\n",
              "          await google.colab.output.renderOutput(dataTable, element);\n",
              "          const docLink = document.createElement('div');\n",
              "          docLink.innerHTML = docLinkHtml;\n",
              "          element.appendChild(docLink);\n",
              "        }\n",
              "      </script>\n",
              "    </div>\n",
              "  </div>\n",
              "  "
            ]
          },
          "metadata": {},
          "execution_count": 14
        }
      ]
    },
    {
      "cell_type": "code",
      "source": [
        "tf.shape"
      ],
      "metadata": {
        "colab": {
          "base_uri": "https://localhost:8080/"
        },
        "id": "frBgTiqGh3_1",
        "outputId": "3286c81f-d6d1-4b11-b04e-01b3d6abd26b"
      },
      "execution_count": 15,
      "outputs": [
        {
          "output_type": "execute_result",
          "data": {
            "text/plain": [
              "(7947, 2)"
            ]
          },
          "metadata": {},
          "execution_count": 15
        }
      ]
    },
    {
      "cell_type": "code",
      "source": [
        "tf[\"words\"].nunique()             # nunique --> number of unique values in ['words'] column"
      ],
      "metadata": {
        "colab": {
          "base_uri": "https://localhost:8080/"
        },
        "id": "Fdm34xWVja4J",
        "outputId": "f9825ba2-288e-47fc-accd-30f942e44f49"
      },
      "execution_count": 16,
      "outputs": [
        {
          "output_type": "execute_result",
          "data": {
            "text/plain": [
              "7947"
            ]
          },
          "metadata": {},
          "execution_count": 16
        }
      ]
    },
    {
      "cell_type": "code",
      "source": [
        "tf[\"tf\"].describe()"
      ],
      "metadata": {
        "colab": {
          "base_uri": "https://localhost:8080/"
        },
        "id": "13R-LusSj2yj",
        "outputId": "1cd51624-3ce3-4575-f77a-71857676b666"
      },
      "execution_count": 17,
      "outputs": [
        {
          "output_type": "execute_result",
          "data": {
            "text/plain": [
              "count   7947.00\n",
              "mean      15.69\n",
              "std      103.94\n",
              "min        1.00\n",
              "25%        1.00\n",
              "50%        1.00\n",
              "75%        4.00\n",
              "max     5537.00\n",
              "Name: tf, dtype: float64"
            ]
          },
          "metadata": {},
          "execution_count": 17
        }
      ]
    },
    {
      "cell_type": "code",
      "source": [
        "tf[\"tf\"].describe([0.05, 0.10, 0.25, 0.50, 0.75, 0.80, 0.90, 0.95, 0.99])"
      ],
      "metadata": {
        "colab": {
          "base_uri": "https://localhost:8080/"
        },
        "id": "h-Kr4mInkA9N",
        "outputId": "3eaff7a9-4eb1-4409-f0a3-df29c4fa649d"
      },
      "execution_count": 18,
      "outputs": [
        {
          "output_type": "execute_result",
          "data": {
            "text/plain": [
              "count   7947.00\n",
              "mean      15.69\n",
              "std      103.94\n",
              "min        1.00\n",
              "5%         1.00\n",
              "10%        1.00\n",
              "25%        1.00\n",
              "50%        1.00\n",
              "75%        4.00\n",
              "80%        5.00\n",
              "90%       18.00\n",
              "95%       52.00\n",
              "99%      273.18\n",
              "max     5537.00\n",
              "Name: tf, dtype: float64"
            ]
          },
          "metadata": {},
          "execution_count": 18
        }
      ]
    },
    {
      "cell_type": "code",
      "source": [
        "# Get terms frequency which it's reduncies > than 500\n",
        "tf[tf[\"tf\"] > 500].plot.bar(x=\"words\", y=\"tf\")\n",
        "plt.show()"
      ],
      "metadata": {
        "colab": {
          "base_uri": "https://localhost:8080/",
          "height": 329
        },
        "id": "Z1bedyGrkCo1",
        "outputId": "ce92598b-b558-41ad-b9c8-be66e8b10b25"
      },
      "execution_count": 19,
      "outputs": [
        {
          "output_type": "display_data",
          "data": {
            "text/plain": [
              "<Figure size 432x288 with 1 Axes>"
            ],
            "image/png": "[encoded data removed]"
          },
          "metadata": {
            "needs_background": "light"
          }
        }
      ]
    },
    {
      "cell_type": "code",
      "source": [
        "# Wordcloud\n",
        "\n",
        "text = \" \".join(i for i in df.reviewText)\n",
        "wordcloud = WordCloud().generate(text)\n",
        "plt.imshow(wordcloud, interpolation=\"bilinear\")\n",
        "plt.axis(\"off\")\n",
        "plt.show()"
      ],
      "metadata": {
        "colab": {
          "base_uri": "https://localhost:8080/",
          "height": 198
        },
        "id": "wP7ZNQHDkhvZ",
        "outputId": "1ca4d764-827e-46ed-81a1-f4646f2b0420"
      },
      "execution_count": 20,
      "outputs": [
        {
          "output_type": "display_data",
          "data": {
            "text/plain": [
              "<Figure size 432x288 with 1 Axes>"
            ],
            "image/png": "[encoded data removed]"
          },
          "metadata": {
            "needs_background": "light"
          }
        }
      ]
    },
    {
      "cell_type": "code",
      "source": [
        "wordcloud = WordCloud(max_font_size=50, max_words=100, background_color=\"white\").generate(text)\n",
        "plt.figure()\n",
        "plt.imshow(wordcloud, interpolation=\"bilinear\")\n",
        "plt.axis(\"off\")\n",
        "plt.show()\n",
        "\n",
        "wordcloud.to_file(\"wordcloud.png\")"
      ],
      "metadata": {
        "colab": {
          "base_uri": "https://localhost:8080/",
          "height": 216
        },
        "id": "CHgjUjR8nMe9",
        "outputId": "a2ce00a6-d665-43b5-9159-e73521653fa1"
      },
      "execution_count": 21,
      "outputs": [
        {
          "output_type": "display_data",
          "data": {
            "text/plain": [
              "<Figure size 432x288 with 1 Axes>"
            ],
            "image/png": "[encoded data removed]"
          },
          "metadata": {
            "needs_background": "light"
          }
        },
        {
          "output_type": "execute_result",
          "data": {
            "text/plain": [
              "<wordcloud.wordcloud.WordCloud at 0x7f0085b7db10>"
            ]
          },
          "metadata": {},
          "execution_count": 21
        }
      ]
    },
    {
      "cell_type": "code",
      "source": [
        ""
      ],
      "metadata": {
        "id": "Ag6n4TsDnweu"
      },
      "execution_count": 21,
      "outputs": []
    },
    {
      "cell_type": "markdown",
      "source": [
        "# `3.` Sentiment Analysis"
      ],
      "metadata": {
        "id": "WAy86dgxnwsU"
      }
    },
    {
      "cell_type": "code",
      "source": [
        "# NLTK already has a built-in, pretrained sentiment analyzer\n",
        "# called VADER (Valence Aware Dictionary and Sentiment Reasoner).\n",
        "\n",
        "df.head()"
      ],
      "metadata": {
        "colab": {
          "base_uri": "https://localhost:8080/",
          "height": 669
        },
        "id": "TLYtoh-ynfhQ",
        "outputId": "4b2ba843-327d-4a76-9b0d-d6236f10a4f4"
      },
      "execution_count": 22,
      "outputs": [
        {
          "output_type": "execute_result",
          "data": {
            "text/plain": [
              "       reviewerID        asin  reviewerName helpful                                         reviewText  overall                                 summary  unixReviewTime  reviewTime  day_diff  \\\n",
              "1  A18K1ODH1I2MVB  B007WTAJTO          0mie  [0, 0]  purchase device work advertise never much phon...     5.00                           MOAR SPACE!!!      1382659200  2013-10-25       409   \n",
              "2  A2FII3I2MBMUIA  B007WTAJTO           1K3  [0, 0]  work expect spring higher capacity think make ...     4.00               nothing to really say....      1356220800  2012-12-23       715   \n",
              "3   A3H99DFEG68SR  B007WTAJTO           1m2  [0, 0]  think work greathad diff bran gb card go south...     5.00  Great buy at this price!!!  *** UPDATE      1384992000  2013-11-21       382   \n",
              "4  A375ZM4U047O79  B007WTAJTO  2&amp;1/2Men  [0, 0]  buy retail package arrive legit orange envelop...     5.00                        best deal around      1373673600  2013-07-13       513   \n",
              "5  A2IDCSC6NVONIZ  B007WTAJTO       2Cents!  [0, 0]  mini storage doesnt anything else suppose purc...     5.00             Not a lot to really be said      1367193600  2013-04-29       588   \n",
              "\n",
              "   helpful_yes  total_vote  \n",
              "1            0           0  \n",
              "2            0           0  \n",
              "3            0           0  \n",
              "4            0           0  \n",
              "5            0           0  "
            ],
            "text/html": [
              "\n",
              "  <div id=\"df-c3fac191-352f-418d-a495-fc47b85363f7\">\n",
              "    <div class=\"colab-df-container\">\n",
              "      <div>\n",
              "<style scoped>\n",
              "    .dataframe tbody tr th:only-of-type {\n",
              "        vertical-align: middle;\n",
              "    }\n",
              "\n",
              "    .dataframe tbody tr th {\n",
              "        vertical-align: top;\n",
              "    }\n",
              "\n",
              "    .dataframe thead th {\n",
              "        text-align: right;\n",
              "    }\n",
              "</style>\n",
              "<table border=\"1\" class=\"dataframe\">\n",
              "  <thead>\n",
              "    <tr style=\"text-align: right;\">\n",
              "      <th></th>\n",
              "      <th>reviewerID</th>\n",
              "      <th>asin</th>\n",
              "      <th>reviewerName</th>\n",
              "      <th>helpful</th>\n",
              "      <th>reviewText</th>\n",
              "      <th>overall</th>\n",
              "      <th>summary</th>\n",
              "      <th>unixReviewTime</th>\n",
              "      <th>reviewTime</th>\n",
              "      <th>day_diff</th>\n",
              "      <th>helpful_yes</th>\n",
              "      <th>total_vote</th>\n",
              "    </tr>\n",
              "  </thead>\n",
              "  <tbody>\n",
              "    <tr>\n",
              "      <th>1</th>\n",
              "      <td>A18K1ODH1I2MVB</td>\n",
              "      <td>B007WTAJTO</td>\n",
              "      <td>0mie</td>\n",
              "      <td>[0, 0]</td>\n",
              "      <td>purchase device work advertise never much phon...</td>\n",
              "      <td>5.00</td>\n",
              "      <td>MOAR SPACE!!!</td>\n",
              "      <td>1382659200</td>\n",
              "      <td>2013-10-25</td>\n",
              "      <td>409</td>\n",
              "      <td>0</td>\n",
              "      <td>0</td>\n",
              "    </tr>\n",
              "    <tr>\n",
              "      <th>2</th>\n",
              "      <td>A2FII3I2MBMUIA</td>\n",
              "      <td>B007WTAJTO</td>\n",
              "      <td>1K3</td>\n",
              "      <td>[0, 0]</td>\n",
              "      <td>work expect spring higher capacity think make ...</td>\n",
              "      <td>4.00</td>\n",
              "      <td>nothing to really say....</td>\n",
              "      <td>1356220800</td>\n",
              "      <td>2012-12-23</td>\n",
              "      <td>715</td>\n",
              "      <td>0</td>\n",
              "      <td>0</td>\n",
              "    </tr>\n",
              "    <tr>\n",
              "      <th>3</th>\n",
              "      <td>A3H99DFEG68SR</td>\n",
              "      <td>B007WTAJTO</td>\n",
              "      <td>1m2</td>\n",
              "      <td>[0, 0]</td>\n",
              "      <td>think work greathad diff bran gb card go south...</td>\n",
              "      <td>5.00</td>\n",
              "      <td>Great buy at this price!!!  *** UPDATE</td>\n",
              "      <td>1384992000</td>\n",
              "      <td>2013-11-21</td>\n",
              "      <td>382</td>\n",
              "      <td>0</td>\n",
              "      <td>0</td>\n",
              "    </tr>\n",
              "    <tr>\n",
              "      <th>4</th>\n",
              "      <td>A375ZM4U047O79</td>\n",
              "      <td>B007WTAJTO</td>\n",
              "      <td>2&amp;amp;1/2Men</td>\n",
              "      <td>[0, 0]</td>\n",
              "      <td>buy retail package arrive legit orange envelop...</td>\n",
              "      <td>5.00</td>\n",
              "      <td>best deal around</td>\n",
              "      <td>1373673600</td>\n",
              "      <td>2013-07-13</td>\n",
              "      <td>513</td>\n",
              "      <td>0</td>\n",
              "      <td>0</td>\n",
              "    </tr>\n",
              "    <tr>\n",
              "      <th>5</th>\n",
              "      <td>A2IDCSC6NVONIZ</td>\n",
              "      <td>B007WTAJTO</td>\n",
              "      <td>2Cents!</td>\n",
              "      <td>[0, 0]</td>\n",
              "      <td>mini storage doesnt anything else suppose purc...</td>\n",
              "      <td>5.00</td>\n",
              "      <td>Not a lot to really be said</td>\n",
              "      <td>1367193600</td>\n",
              "      <td>2013-04-29</td>\n",
              "      <td>588</td>\n",
              "      <td>0</td>\n",
              "      <td>0</td>\n",
              "    </tr>\n",
              "  </tbody>\n",
              "</table>\n",
              "</div>\n",
              "      <button class=\"colab-df-convert\" onclick=\"convertToInteractive('df-c3fac191-352f-418d-a495-fc47b85363f7')\"\n",
              "              title=\"Convert this dataframe to an interactive table.\"\n",
              "              style=\"display:none;\">\n",
              "        \n",
              "  <svg xmlns=\"http://www.w3.org/2000/svg\" height=\"24px\"viewBox=\"0 0 24 24\"\n",
              "       width=\"24px\">\n",
              "    <path d=\"M0 0h24v24H0V0z\" fill=\"none\"/>\n",
              "    <path d=\"M18.56 5.44l.94 2.06.94-2.06 2.06-.94-2.06-.94-.94-2.06-.94 2.06-2.06.94zm-11 1L8.5 8.5l.94-2.06 2.06-.94-2.06-.94L8.5 2.5l-.94 2.06-2.06.94zm10 10l.94 2.06.94-2.06 2.06-.94-2.06-.94-.94-2.06-.94 2.06-2.06.94z\"/><path d=\"M17.41 7.96l-1.37-1.37c-.4-.4-.92-.59-1.43-.59-.52 0-1.04.2-1.43.59L10.3 9.45l-7.72 7.72c-.78.78-.78 2.05 0 2.83L4 21.41c.39.39.9.59 1.41.59.51 0 1.02-.2 1.41-.59l7.78-7.78 2.81-2.81c.8-.78.8-2.07 0-2.86zM5.41 20L4 18.59l7.72-7.72 1.47 1.35L5.41 20z\"/>\n",
              "  </svg>\n",
              "      </button>\n",
              "      \n",
              "  <style>\n",
              "    .colab-df-container {\n",
              "      display:flex;\n",
              "      flex-wrap:wrap;\n",
              "      gap: 12px;\n",
              "    }\n",
              "\n",
              "    .colab-df-convert {\n",
              "      background-color: #E8F0FE;\n",
              "      border: none;\n",
              "      border-radius: 50%;\n",
              "      cursor: pointer;\n",
              "      display: none;\n",
              "      fill: #1967D2;\n",
              "      height: 32px;\n",
              "      padding: 0 0 0 0;\n",
              "      width: 32px;\n",
              "    }\n",
              "\n",
              "    .colab-df-convert:hover {\n",
              "      background-color: #E2EBFA;\n",
              "      box-shadow: 0px 1px 2px rgba(60, 64, 67, 0.3), 0px 1px 3px 1px rgba(60, 64, 67, 0.15);\n",
              "      fill: #174EA6;\n",
              "    }\n",
              "\n",
              "    [theme=dark] .colab-df-convert {\n",
              "      background-color: #3B4455;\n",
              "      fill: #D2E3FC;\n",
              "    }\n",
              "\n",
              "    [theme=dark] .colab-df-convert:hover {\n",
              "      background-color: #434B5C;\n",
              "      box-shadow: 0px 1px 3px 1px rgba(0, 0, 0, 0.15);\n",
              "      filter: drop-shadow(0px 1px 2px rgba(0, 0, 0, 0.3));\n",
              "      fill: #FFFFFF;\n",
              "    }\n",
              "  </style>\n",
              "\n",
              "      <script>\n",
              "        const buttonEl =\n",
              "          document.querySelector('#df-c3fac191-352f-418d-a495-fc47b85363f7 button.colab-df-convert');\n",
              "        buttonEl.style.display =\n",
              "          google.colab.kernel.accessAllowed ? 'block' : 'none';\n",
              "\n",
              "        async function convertToInteractive(key) {\n",
              "          const element = document.querySelector('#df-c3fac191-352f-418d-a495-fc47b85363f7');\n",
              "          const dataTable =\n",
              "            await google.colab.kernel.invokeFunction('convertToInteractive',\n",
              "                                                     [key], {});\n",
              "          if (!dataTable) return;\n",
              "\n",
              "          const docLinkHtml = 'Like what you see? Visit the ' +\n",
              "            '<a target=\"_blank\" href=https://colab.research.google.com/notebooks/data_table.ipynb>data table notebook</a>'\n",
              "            + ' to learn more about interactive tables.';\n",
              "          element.innerHTML = '';\n",
              "          dataTable['output_type'] = 'display_data';\n",
              "          await google.colab.output.renderOutput(dataTable, element);\n",
              "          const docLink = document.createElement('div');\n",
              "          docLink.innerHTML = docLinkHtml;\n",
              "          element.appendChild(docLink);\n",
              "        }\n",
              "      </script>\n",
              "    </div>\n",
              "  </div>\n",
              "  "
            ]
          },
          "metadata": {},
          "execution_count": 22
        }
      ]
    },
    {
      "cell_type": "code",
      "source": [
        "nltk.download('vader_lexicon')\n",
        "\n",
        "from nltk.sentiment import SentimentIntensityAnalyzer\n",
        "SIA = SentimentIntensityAnalyzer()\n",
        "\n",
        "SIA.polarity_scores(\"The film was awesome\")"
      ],
      "metadata": {
        "colab": {
          "base_uri": "https://localhost:8080/"
        },
        "id": "hBxBDppMoNCy",
        "outputId": "3d68e21d-f7cf-4def-bad6-b1037fd6bc51"
      },
      "execution_count": 23,
      "outputs": [
        {
          "output_type": "stream",
          "name": "stderr",
          "text": [
            "[nltk_data] Downloading package vader_lexicon to /root/nltk_data...\n"
          ]
        },
        {
          "output_type": "execute_result",
          "data": {
            "text/plain": [
              "{'compound': 0.6249, 'neg': 0.0, 'neu': 0.423, 'pos': 0.577}"
            ]
          },
          "metadata": {},
          "execution_count": 23
        }
      ]
    },
    {
      "cell_type": "code",
      "source": [
        "SIA.polarity_scores(\"I liked this music but it is not good as the other one\")"
      ],
      "metadata": {
        "colab": {
          "base_uri": "https://localhost:8080/"
        },
        "id": "KuD9EY_8olXx",
        "outputId": "710d0c43-c766-4754-97b8-eaf0c862db40"
      },
      "execution_count": 24,
      "outputs": [
        {
          "output_type": "execute_result",
          "data": {
            "text/plain": [
              "{'compound': -0.298, 'neg': 0.207, 'neu': 0.666, 'pos': 0.127}"
            ]
          },
          "metadata": {},
          "execution_count": 24
        }
      ]
    },
    {
      "cell_type": "markdown",
      "source": [
        "### `neg` --> الجمله دي سلبيه بدرجه كذا وقيمتها بتتراوح من 0 ل 1\n",
        "### `pos` --> الجمله دي ايجابيه بدرجه كذا وقيمتها بتتراوح من 0 ل 1\n",
        "### `neu` --> الجمله دي متعادله بنسبه كذا وقيمتها بتتراوح من 0 ل 1\n",
        "##### `compound` --> التقييم النهائي للجمله قيمتها بتتراوح من -1 ل 1   فلو قيمتها طلعت ب -1 يبقي الجمله دي سلبيه جدا ولو 1 يبقي الجمله دي ايجابيه جدا ولو 0 يبقي الجمله دي متعادله وهكذا"
      ],
      "metadata": {
        "id": "7BJr0l6ErbtR"
      }
    },
    {
      "cell_type": "code",
      "source": [
        "# Get [neg, pos, neu, compound] polarity_scores for only 10 reviews in the dataframe:\n",
        "df[\"reviewText\"][0:10].apply(lambda x: SIA.polarity_scores(x))"
      ],
      "metadata": {
        "colab": {
          "base_uri": "https://localhost:8080/"
        },
        "id": "WtiXKqtDoxHV",
        "outputId": "0e8b75c9-e665-413e-af17-4cde4573d64c"
      },
      "execution_count": 25,
      "outputs": [
        {
          "output_type": "execute_result",
          "data": {
            "text/plain": [
              "1     {'neg': 0.0, 'neu': 1.0, 'pos': 0.0, 'compound...\n",
              "2     {'neg': 0.0, 'neu': 0.828, 'pos': 0.172, 'comp...\n",
              "3     {'neg': 0.0, 'neu': 0.831, 'pos': 0.169, 'comp...\n",
              "4     {'neg': 0.0, 'neu': 0.765, 'pos': 0.235, 'comp...\n",
              "5     {'neg': 0.0, 'neu': 1.0, 'pos': 0.0, 'compound...\n",
              "6     {'neg': 0.098, 'neu': 0.587, 'pos': 0.315, 'co...\n",
              "7     {'neg': 0.066, 'neu': 0.703, 'pos': 0.231, 'co...\n",
              "8     {'neg': 0.0, 'neu': 1.0, 'pos': 0.0, 'compound...\n",
              "9     {'neg': 0.0, 'neu': 0.457, 'pos': 0.543, 'comp...\n",
              "10    {'neg': 0.0, 'neu': 0.699, 'pos': 0.301, 'comp...\n",
              "Name: reviewText, dtype: object"
            ]
          },
          "metadata": {},
          "execution_count": 25
        }
      ]
    },
    {
      "cell_type": "code",
      "source": [
        "# Get only [compound] polarity_scores for only 10 reviews in the dataframe:\n",
        "df[\"reviewText\"][0:10].apply(lambda x: SIA.polarity_scores(x)[\"compound\"])"
      ],
      "metadata": {
        "colab": {
          "base_uri": "https://localhost:8080/"
        },
        "id": "Abq2Dq4cpQZw",
        "outputId": "1df25cd1-360f-445d-dd78-46195e5098c2"
      },
      "execution_count": 26,
      "outputs": [
        {
          "output_type": "execute_result",
          "data": {
            "text/plain": [
              "1    0.00\n",
              "2    0.40\n",
              "3    0.65\n",
              "4    0.86\n",
              "5    0.00\n",
              "6    0.90\n",
              "7    0.82\n",
              "8    0.00\n",
              "9    0.92\n",
              "10   0.94\n",
              "Name: reviewText, dtype: float64"
            ]
          },
          "metadata": {},
          "execution_count": 26
        }
      ]
    },
    {
      "cell_type": "code",
      "source": [
        "# Create new column called [polarity_score] which get [compound] polarity_scores for every reviews in the dataframe: \n",
        "df[\"polarity_score\"] = df[\"reviewText\"].apply(lambda x: SIA.polarity_scores(x)[\"compound\"])\n",
        "df.head()"
      ],
      "metadata": {
        "colab": {
          "base_uri": "https://localhost:8080/",
          "height": 669
        },
        "id": "aiZzlvKVp-m6",
        "outputId": "d3c4c980-da0c-49a3-bd0d-8657b16febf0"
      },
      "execution_count": 27,
      "outputs": [
        {
          "output_type": "execute_result",
          "data": {
            "text/plain": [
              "       reviewerID        asin  reviewerName helpful                                         reviewText  overall                                 summary  unixReviewTime  reviewTime  day_diff  \\\n",
              "1  A18K1ODH1I2MVB  B007WTAJTO          0mie  [0, 0]  purchase device work advertise never much phon...     5.00                           MOAR SPACE!!!      1382659200  2013-10-25       409   \n",
              "2  A2FII3I2MBMUIA  B007WTAJTO           1K3  [0, 0]  work expect spring higher capacity think make ...     4.00               nothing to really say....      1356220800  2012-12-23       715   \n",
              "3   A3H99DFEG68SR  B007WTAJTO           1m2  [0, 0]  think work greathad diff bran gb card go south...     5.00  Great buy at this price!!!  *** UPDATE      1384992000  2013-11-21       382   \n",
              "4  A375ZM4U047O79  B007WTAJTO  2&amp;1/2Men  [0, 0]  buy retail package arrive legit orange envelop...     5.00                        best deal around      1373673600  2013-07-13       513   \n",
              "5  A2IDCSC6NVONIZ  B007WTAJTO       2Cents!  [0, 0]  mini storage doesnt anything else suppose purc...     5.00             Not a lot to really be said      1367193600  2013-04-29       588   \n",
              "\n",
              "   helpful_yes  total_vote  polarity_score  \n",
              "1            0           0            0.00  \n",
              "2            0           0            0.40  \n",
              "3            0           0            0.65  \n",
              "4            0           0            0.86  \n",
              "5            0           0            0.00  "
            ],
            "text/html": [
              "\n",
              "  <div id=\"df-19a20184-37bb-4508-9be7-25ca2a9a0325\">\n",
              "    <div class=\"colab-df-container\">\n",
              "      <div>\n",
              "<style scoped>\n",
              "    .dataframe tbody tr th:only-of-type {\n",
              "        vertical-align: middle;\n",
              "    }\n",
              "\n",
              "    .dataframe tbody tr th {\n",
              "        vertical-align: top;\n",
              "    }\n",
              "\n",
              "    .dataframe thead th {\n",
              "        text-align: right;\n",
              "    }\n",
              "</style>\n",
              "<table border=\"1\" class=\"dataframe\">\n",
              "  <thead>\n",
              "    <tr style=\"text-align: right;\">\n",
              "      <th></th>\n",
              "      <th>reviewerID</th>\n",
              "      <th>asin</th>\n",
              "      <th>reviewerName</th>\n",
              "      <th>helpful</th>\n",
              "      <th>reviewText</th>\n",
              "      <th>overall</th>\n",
              "      <th>summary</th>\n",
              "      <th>unixReviewTime</th>\n",
              "      <th>reviewTime</th>\n",
              "      <th>day_diff</th>\n",
              "      <th>helpful_yes</th>\n",
              "      <th>total_vote</th>\n",
              "      <th>polarity_score</th>\n",
              "    </tr>\n",
              "  </thead>\n",
              "  <tbody>\n",
              "    <tr>\n",
              "      <th>1</th>\n",
              "      <td>A18K1ODH1I2MVB</td>\n",
              "      <td>B007WTAJTO</td>\n",
              "      <td>0mie</td>\n",
              "      <td>[0, 0]</td>\n",
              "      <td>purchase device work advertise never much phon...</td>\n",
              "      <td>5.00</td>\n",
              "      <td>MOAR SPACE!!!</td>\n",
              "      <td>1382659200</td>\n",
              "      <td>2013-10-25</td>\n",
              "      <td>409</td>\n",
              "      <td>0</td>\n",
              "      <td>0</td>\n",
              "      <td>0.00</td>\n",
              "    </tr>\n",
              "    <tr>\n",
              "      <th>2</th>\n",
              "      <td>A2FII3I2MBMUIA</td>\n",
              "      <td>B007WTAJTO</td>\n",
              "      <td>1K3</td>\n",
              "      <td>[0, 0]</td>\n",
              "      <td>work expect spring higher capacity think make ...</td>\n",
              "      <td>4.00</td>\n",
              "      <td>nothing to really say....</td>\n",
              "      <td>1356220800</td>\n",
              "      <td>2012-12-23</td>\n",
              "      <td>715</td>\n",
              "      <td>0</td>\n",
              "      <td>0</td>\n",
              "      <td>0.40</td>\n",
              "    </tr>\n",
              "    <tr>\n",
              "      <th>3</th>\n",
              "      <td>A3H99DFEG68SR</td>\n",
              "      <td>B007WTAJTO</td>\n",
              "      <td>1m2</td>\n",
              "      <td>[0, 0]</td>\n",
              "      <td>think work greathad diff bran gb card go south...</td>\n",
              "      <td>5.00</td>\n",
              "      <td>Great buy at this price!!!  *** UPDATE</td>\n",
              "      <td>1384992000</td>\n",
              "      <td>2013-11-21</td>\n",
              "      <td>382</td>\n",
              "      <td>0</td>\n",
              "      <td>0</td>\n",
              "      <td>0.65</td>\n",
              "    </tr>\n",
              "    <tr>\n",
              "      <th>4</th>\n",
              "      <td>A375ZM4U047O79</td>\n",
              "      <td>B007WTAJTO</td>\n",
              "      <td>2&amp;amp;1/2Men</td>\n",
              "      <td>[0, 0]</td>\n",
              "      <td>buy retail package arrive legit orange envelop...</td>\n",
              "      <td>5.00</td>\n",
              "      <td>best deal around</td>\n",
              "      <td>1373673600</td>\n",
              "      <td>2013-07-13</td>\n",
              "      <td>513</td>\n",
              "      <td>0</td>\n",
              "      <td>0</td>\n",
              "      <td>0.86</td>\n",
              "    </tr>\n",
              "    <tr>\n",
              "      <th>5</th>\n",
              "      <td>A2IDCSC6NVONIZ</td>\n",
              "      <td>B007WTAJTO</td>\n",
              "      <td>2Cents!</td>\n",
              "      <td>[0, 0]</td>\n",
              "      <td>mini storage doesnt anything else suppose purc...</td>\n",
              "      <td>5.00</td>\n",
              "      <td>Not a lot to really be said</td>\n",
              "      <td>1367193600</td>\n",
              "      <td>2013-04-29</td>\n",
              "      <td>588</td>\n",
              "      <td>0</td>\n",
              "      <td>0</td>\n",
              "      <td>0.00</td>\n",
              "    </tr>\n",
              "  </tbody>\n",
              "</table>\n",
              "</div>\n",
              "      <button class=\"colab-df-convert\" onclick=\"convertToInteractive('df-19a20184-37bb-4508-9be7-25ca2a9a0325')\"\n",
              "              title=\"Convert this dataframe to an interactive table.\"\n",
              "              style=\"display:none;\">\n",
              "        \n",
              "  <svg xmlns=\"http://www.w3.org/2000/svg\" height=\"24px\"viewBox=\"0 0 24 24\"\n",
              "       width=\"24px\">\n",
              "    <path d=\"M0 0h24v24H0V0z\" fill=\"none\"/>\n",
              "    <path d=\"M18.56 5.44l.94 2.06.94-2.06 2.06-.94-2.06-.94-.94-2.06-.94 2.06-2.06.94zm-11 1L8.5 8.5l.94-2.06 2.06-.94-2.06-.94L8.5 2.5l-.94 2.06-2.06.94zm10 10l.94 2.06.94-2.06 2.06-.94-2.06-.94-.94-2.06-.94 2.06-2.06.94z\"/><path d=\"M17.41 7.96l-1.37-1.37c-.4-.4-.92-.59-1.43-.59-.52 0-1.04.2-1.43.59L10.3 9.45l-7.72 7.72c-.78.78-.78 2.05 0 2.83L4 21.41c.39.39.9.59 1.41.59.51 0 1.02-.2 1.41-.59l7.78-7.78 2.81-2.81c.8-.78.8-2.07 0-2.86zM5.41 20L4 18.59l7.72-7.72 1.47 1.35L5.41 20z\"/>\n",
              "  </svg>\n",
              "      </button>\n",
              "      \n",
              "  <style>\n",
              "    .colab-df-container {\n",
              "      display:flex;\n",
              "      flex-wrap:wrap;\n",
              "      gap: 12px;\n",
              "    }\n",
              "\n",
              "    .colab-df-convert {\n",
              "      background-color: #E8F0FE;\n",
              "      border: none;\n",
              "      border-radius: 50%;\n",
              "      cursor: pointer;\n",
              "      display: none;\n",
              "      fill: #1967D2;\n",
              "      height: 32px;\n",
              "      padding: 0 0 0 0;\n",
              "      width: 32px;\n",
              "    }\n",
              "\n",
              "    .colab-df-convert:hover {\n",
              "      background-color: #E2EBFA;\n",
              "      box-shadow: 0px 1px 2px rgba(60, 64, 67, 0.3), 0px 1px 3px 1px rgba(60, 64, 67, 0.15);\n",
              "      fill: #174EA6;\n",
              "    }\n",
              "\n",
              "    [theme=dark] .colab-df-convert {\n",
              "      background-color: #3B4455;\n",
              "      fill: #D2E3FC;\n",
              "    }\n",
              "\n",
              "    [theme=dark] .colab-df-convert:hover {\n",
              "      background-color: #434B5C;\n",
              "      box-shadow: 0px 1px 3px 1px rgba(0, 0, 0, 0.15);\n",
              "      filter: drop-shadow(0px 1px 2px rgba(0, 0, 0, 0.3));\n",
              "      fill: #FFFFFF;\n",
              "    }\n",
              "  </style>\n",
              "\n",
              "      <script>\n",
              "        const buttonEl =\n",
              "          document.querySelector('#df-19a20184-37bb-4508-9be7-25ca2a9a0325 button.colab-df-convert');\n",
              "        buttonEl.style.display =\n",
              "          google.colab.kernel.accessAllowed ? 'block' : 'none';\n",
              "\n",
              "        async function convertToInteractive(key) {\n",
              "          const element = document.querySelector('#df-19a20184-37bb-4508-9be7-25ca2a9a0325');\n",
              "          const dataTable =\n",
              "            await google.colab.kernel.invokeFunction('convertToInteractive',\n",
              "                                                     [key], {});\n",
              "          if (!dataTable) return;\n",
              "\n",
              "          const docLinkHtml = 'Like what you see? Visit the ' +\n",
              "            '<a target=\"_blank\" href=https://colab.research.google.com/notebooks/data_table.ipynb>data table notebook</a>'\n",
              "            + ' to learn more about interactive tables.';\n",
              "          element.innerHTML = '';\n",
              "          dataTable['output_type'] = 'display_data';\n",
              "          await google.colab.output.renderOutput(dataTable, element);\n",
              "          const docLink = document.createElement('div');\n",
              "          docLink.innerHTML = docLinkHtml;\n",
              "          element.appendChild(docLink);\n",
              "        }\n",
              "      </script>\n",
              "    </div>\n",
              "  </div>\n",
              "  "
            ]
          },
          "metadata": {},
          "execution_count": 27
        }
      ]
    },
    {
      "cell_type": "code",
      "source": [
        ""
      ],
      "metadata": {
        "id": "LUUTWvr-qsYb"
      },
      "execution_count": 27,
      "outputs": []
    },
    {
      "cell_type": "markdown",
      "source": [
        "# `4.` Sentiment Modeling"
      ],
      "metadata": {
        "id": "PQBuDEiIq21h"
      }
    },
    {
      "cell_type": "code",
      "source": [
        "# Feature Engineering\n",
        "\n",
        "# Create Targrt Table:\n",
        "df[\"sentiment_label\"] = df[\"reviewText\"].apply(lambda x: \"pos\" if SIA.polarity_scores(x)[\"compound\"] > 0 else \"neg\")\n",
        "df.head(20)"
      ],
      "metadata": {
        "colab": {
          "base_uri": "https://localhost:8080/",
          "height": 1000
        },
        "id": "2hJwuH2Cq6mu",
        "outputId": "43591a17-46c5-4244-b632-7d996257759c"
      },
      "execution_count": 28,
      "outputs": [
        {
          "output_type": "execute_result",
          "data": {
            "text/plain": [
              "        reviewerID        asin                                      reviewerName helpful                                         reviewText  overall  \\\n",
              "1   A18K1ODH1I2MVB  B007WTAJTO                                              0mie  [0, 0]  purchase device work advertise never much phon...     5.00   \n",
              "2   A2FII3I2MBMUIA  B007WTAJTO                                               1K3  [0, 0]  work expect spring higher capacity think make ...     4.00   \n",
              "3    A3H99DFEG68SR  B007WTAJTO                                               1m2  [0, 0]  think work greathad diff bran gb card go south...     5.00   \n",
              "4   A375ZM4U047O79  B007WTAJTO                                      2&amp;1/2Men  [0, 0]  buy retail package arrive legit orange envelop...     5.00   \n",
              "5   A2IDCSC6NVONIZ  B007WTAJTO                                           2Cents!  [0, 0]  mini storage doesnt anything else suppose purc...     5.00   \n",
              "6   A26YHXZD5UFPVQ  B007WTAJTO                                        2K1Toaster  [0, 0]  phone never skip beat file transfer speedy cor...     5.00   \n",
              "7   A3CW0ZLUO5X2B1  B007WTAJTO  35-year Technology Consumer \"8-tracks to 802.11\"  [0, 0]  hard believe affordable digital become gb devi...     5.00   \n",
              "8   A2CYJO155QP33S  B007WTAJTO                                         4evryoung  [1, 1]  work htc rezound run short space gb sandisk or...     5.00   \n",
              "9   A2S7XG3ZC4VGOQ  B007WTAJTO                                          53rdcard  [0, 0]  galaxy super fast card totally happy happy sti...     5.00   \n",
              "10  A1RTQROTWR5NCB  B007WTAJTO                                         808TREX50  [0, 0]  like sd card take music video download persona...     5.00   \n",
              "11  A2Q3ICGWZLY3JJ  B007WTAJTO                                             98020  [0, 0]  work file write bite slower expect usb readera...     3.00   \n",
              "12   AN2VFTXYW1SZU  B007WTAJTO                                            9z4cda  [0, 0]                           name speak go sandisk go     5.00   \n",
              "13   AVHN134ADVP4R  B007WTAJTO                              A4Q96 \"Gadget Lover\"  [0, 0]  solid sdhc card fast read write fast record vi...     5.00   \n",
              "14   A3EA7KGYC8LB0  B007WTAJTO                                     Aaron \"Aaron\"  [0, 0]  hear card write speed insufficient however use...     5.00   \n",
              "15  A29RI184HRX66H  B007WTAJTO                                     Aaron \"Aaron\"  [0, 0]  buy use go pro hero black edition require clas...     5.00   \n",
              "16  A2G9ZHVA6IOGBY  B007WTAJTO                                     Aaron Alvarez  [0, 0]  get gb one fill keep get insufficient disk spa...     5.00   \n",
              "17  A1OATGH4DF0RF0  B007WTAJTO                                 Aaron F. Virginie  [0, 1]  class speed rat seamless full hd videothe sand...     5.00   \n",
              "18  A1V6CQACZ9IOLC  B007WTAJTO                                      Aaron Graves  [0, 0]  read write speed better samsung sd card previo...     5.00   \n",
              "19  A2ELBSIZ26GKM2  B007WTAJTO                                             Aaron  [0, 0]  work nl video stutter like gb blah blah blah b...     5.00   \n",
              "20   A6AL9BZ0JALUP  B007WTAJTO                                             Aaron  [0, 0]  work expect high transfer speed nice extra mic...     5.00   \n",
              "\n",
              "                                              summary  unixReviewTime  reviewTime  day_diff  helpful_yes  total_vote  polarity_score sentiment_label  \n",
              "1                                       MOAR SPACE!!!      1382659200  2013-10-25       409            0           0            0.00             neg  \n",
              "2                           nothing to really say....      1356220800  2012-12-23       715            0           0            0.40             pos  \n",
              "3              Great buy at this price!!!  *** UPDATE      1384992000  2013-11-21       382            0           0            0.65             pos  \n",
              "4                                    best deal around      1373673600  2013-07-13       513            0           0            0.86             pos  \n",
              "5                         Not a lot to really be said      1367193600  2013-04-29       588            0           0            0.00             neg  \n",
              "6                                          Works well      1382140800  2013-10-19       415            0           0            0.90             pos  \n",
              "7   32 GB for less than two sawbucks...what's not ...      1404950400  2014-10-07        62            0           0            0.82             pos  \n",
              "8                                       Loads of room      1395619200  2014-03-24       259            1           1            0.00             neg  \n",
              "9                                         works great      1381449600  2013-11-10       393            0           0            0.92             pos  \n",
              "10                                 32GB MicroSD Card.      1368230400  2013-11-05       398            0           0            0.94             pos  \n",
              "11              It works, but not as fast as expected      1384905600  2013-11-20       383            0           0            0.00             neg  \n",
              "12                               A RENOUND NAME BRAND      1404432000  2014-04-07       245            0           0            0.00             neg  \n",
              "13                                    Great SDHC card      1384992000  2013-11-21       382            0           0            0.82             pos  \n",
              "14                  Use it for my GoPro Hero 3+ Black      1392595200  2014-02-17       294            0           0            0.31             pos  \n",
              "15                    Awesome price, great brand name      1357257600  2013-04-01       616            0           0            0.72             pos  \n",
              "16                                  great price. fast      1393718400  2014-02-03       308            0           0            0.85             pos  \n",
              "17                                Get Fast Load Times      1372896000  2013-04-07       610            0           1            0.89             pos  \n",
              "18                     Very good little Micro SD card      1398988800  2014-02-05       306            0           0            0.85             pos  \n",
              "19                                              works      1389052800  2014-07-01       160            0           0           -0.27             neg  \n",
              "20                                              Works      1382832000  2013-10-27       407            0           0            0.42             pos  "
            ],
            "text/html": [
              "\n",
              "  <div id=\"df-d3ae5b7f-6e70-405c-a809-525486e8a8c6\">\n",
              "    <div class=\"colab-df-container\">\n",
              "      <div>\n",
              "<style scoped>\n",
              "    .dataframe tbody tr th:only-of-type {\n",
              "        vertical-align: middle;\n",
              "    }\n",
              "\n",
              "    .dataframe tbody tr th {\n",
              "        vertical-align: top;\n",
              "    }\n",
              "\n",
              "    .dataframe thead th {\n",
              "        text-align: right;\n",
              "    }\n",
              "</style>\n",
              "<table border=\"1\" class=\"dataframe\">\n",
              "  <thead>\n",
              "    <tr style=\"text-align: right;\">\n",
              "      <th></th>\n",
              "      <th>reviewerID</th>\n",
              "      <th>asin</th>\n",
              "      <th>reviewerName</th>\n",
              "      <th>helpful</th>\n",
              "      <th>reviewText</th>\n",
              "      <th>overall</th>\n",
              "      <th>summary</th>\n",
              "      <th>unixReviewTime</th>\n",
              "      <th>reviewTime</th>\n",
              "      <th>day_diff</th>\n",
              "      <th>helpful_yes</th>\n",
              "      <th>total_vote</th>\n",
              "      <th>polarity_score</th>\n",
              "      <th>sentiment_label</th>\n",
              "    </tr>\n",
              "  </thead>\n",
              "  <tbody>\n",
              "    <tr>\n",
              "      <th>1</th>\n",
              "      <td>A18K1ODH1I2MVB</td>\n",
              "      <td>B007WTAJTO</td>\n",
              "      <td>0mie</td>\n",
              "      <td>[0, 0]</td>\n",
              "      <td>purchase device work advertise never much phon...</td>\n",
              "      <td>5.00</td>\n",
              "      <td>MOAR SPACE!!!</td>\n",
              "      <td>1382659200</td>\n",
              "      <td>2013-10-25</td>\n",
              "      <td>409</td>\n",
              "      <td>0</td>\n",
              "      <td>0</td>\n",
              "      <td>0.00</td>\n",
              "      <td>neg</td>\n",
              "    </tr>\n",
              "    <tr>\n",
              "      <th>2</th>\n",
              "      <td>A2FII3I2MBMUIA</td>\n",
              "      <td>B007WTAJTO</td>\n",
              "      <td>1K3</td>\n",
              "      <td>[0, 0]</td>\n",
              "      <td>work expect spring higher capacity think make ...</td>\n",
              "      <td>4.00</td>\n",
              "      <td>nothing to really say....</td>\n",
              "      <td>1356220800</td>\n",
              "      <td>2012-12-23</td>\n",
              "      <td>715</td>\n",
              "      <td>0</td>\n",
              "      <td>0</td>\n",
              "      <td>0.40</td>\n",
              "      <td>pos</td>\n",
              "    </tr>\n",
              "    <tr>\n",
              "      <th>3</th>\n",
              "      <td>A3H99DFEG68SR</td>\n",
              "      <td>B007WTAJTO</td>\n",
              "      <td>1m2</td>\n",
              "      <td>[0, 0]</td>\n",
              "      <td>think work greathad diff bran gb card go south...</td>\n",
              "      <td>5.00</td>\n",
              "      <td>Great buy at this price!!!  *** UPDATE</td>\n",
              "      <td>1384992000</td>\n",
              "      <td>2013-11-21</td>\n",
              "      <td>382</td>\n",
              "      <td>0</td>\n",
              "      <td>0</td>\n",
              "      <td>0.65</td>\n",
              "      <td>pos</td>\n",
              "    </tr>\n",
              "    <tr>\n",
              "      <th>4</th>\n",
              "      <td>A375ZM4U047O79</td>\n",
              "      <td>B007WTAJTO</td>\n",
              "      <td>2&amp;amp;1/2Men</td>\n",
              "      <td>[0, 0]</td>\n",
              "      <td>buy retail package arrive legit orange envelop...</td>\n",
              "      <td>5.00</td>\n",
              "      <td>best deal around</td>\n",
              "      <td>1373673600</td>\n",
              "      <td>2013-07-13</td>\n",
              "      <td>513</td>\n",
              "      <td>0</td>\n",
              "      <td>0</td>\n",
              "      <td>0.86</td>\n",
              "      <td>pos</td>\n",
              "    </tr>\n",
              "    <tr>\n",
              "      <th>5</th>\n",
              "      <td>A2IDCSC6NVONIZ</td>\n",
              "      <td>B007WTAJTO</td>\n",
              "      <td>2Cents!</td>\n",
              "      <td>[0, 0]</td>\n",
              "      <td>mini storage doesnt anything else suppose purc...</td>\n",
              "      <td>5.00</td>\n",
              "      <td>Not a lot to really be said</td>\n",
              "      <td>1367193600</td>\n",
              "      <td>2013-04-29</td>\n",
              "      <td>588</td>\n",
              "      <td>0</td>\n",
              "      <td>0</td>\n",
              "      <td>0.00</td>\n",
              "      <td>neg</td>\n",
              "    </tr>\n",
              "    <tr>\n",
              "      <th>6</th>\n",
              "      <td>A26YHXZD5UFPVQ</td>\n",
              "      <td>B007WTAJTO</td>\n",
              "      <td>2K1Toaster</td>\n",
              "      <td>[0, 0]</td>\n",
              "      <td>phone never skip beat file transfer speedy cor...</td>\n",
              "      <td>5.00</td>\n",
              "      <td>Works well</td>\n",
              "      <td>1382140800</td>\n",
              "      <td>2013-10-19</td>\n",
              "      <td>415</td>\n",
              "      <td>0</td>\n",
              "      <td>0</td>\n",
              "      <td>0.90</td>\n",
              "      <td>pos</td>\n",
              "    </tr>\n",
              "    <tr>\n",
              "      <th>7</th>\n",
              "      <td>A3CW0ZLUO5X2B1</td>\n",
              "      <td>B007WTAJTO</td>\n",
              "      <td>35-year Technology Consumer \"8-tracks to 802.11\"</td>\n",
              "      <td>[0, 0]</td>\n",
              "      <td>hard believe affordable digital become gb devi...</td>\n",
              "      <td>5.00</td>\n",
              "      <td>32 GB for less than two sawbucks...what's not ...</td>\n",
              "      <td>1404950400</td>\n",
              "      <td>2014-10-07</td>\n",
              "      <td>62</td>\n",
              "      <td>0</td>\n",
              "      <td>0</td>\n",
              "      <td>0.82</td>\n",
              "      <td>pos</td>\n",
              "    </tr>\n",
              "    <tr>\n",
              "      <th>8</th>\n",
              "      <td>A2CYJO155QP33S</td>\n",
              "      <td>B007WTAJTO</td>\n",
              "      <td>4evryoung</td>\n",
              "      <td>[1, 1]</td>\n",
              "      <td>work htc rezound run short space gb sandisk or...</td>\n",
              "      <td>5.00</td>\n",
              "      <td>Loads of room</td>\n",
              "      <td>1395619200</td>\n",
              "      <td>2014-03-24</td>\n",
              "      <td>259</td>\n",
              "      <td>1</td>\n",
              "      <td>1</td>\n",
              "      <td>0.00</td>\n",
              "      <td>neg</td>\n",
              "    </tr>\n",
              "    <tr>\n",
              "      <th>9</th>\n",
              "      <td>A2S7XG3ZC4VGOQ</td>\n",
              "      <td>B007WTAJTO</td>\n",
              "      <td>53rdcard</td>\n",
              "      <td>[0, 0]</td>\n",
              "      <td>galaxy super fast card totally happy happy sti...</td>\n",
              "      <td>5.00</td>\n",
              "      <td>works great</td>\n",
              "      <td>1381449600</td>\n",
              "      <td>2013-11-10</td>\n",
              "      <td>393</td>\n",
              "      <td>0</td>\n",
              "      <td>0</td>\n",
              "      <td>0.92</td>\n",
              "      <td>pos</td>\n",
              "    </tr>\n",
              "    <tr>\n",
              "      <th>10</th>\n",
              "      <td>A1RTQROTWR5NCB</td>\n",
              "      <td>B007WTAJTO</td>\n",
              "      <td>808TREX50</td>\n",
              "      <td>[0, 0]</td>\n",
              "      <td>like sd card take music video download persona...</td>\n",
              "      <td>5.00</td>\n",
              "      <td>32GB MicroSD Card.</td>\n",
              "      <td>1368230400</td>\n",
              "      <td>2013-11-05</td>\n",
              "      <td>398</td>\n",
              "      <td>0</td>\n",
              "      <td>0</td>\n",
              "      <td>0.94</td>\n",
              "      <td>pos</td>\n",
              "    </tr>\n",
              "    <tr>\n",
              "      <th>11</th>\n",
              "      <td>A2Q3ICGWZLY3JJ</td>\n",
              "      <td>B007WTAJTO</td>\n",
              "      <td>98020</td>\n",
              "      <td>[0, 0]</td>\n",
              "      <td>work file write bite slower expect usb readera...</td>\n",
              "      <td>3.00</td>\n",
              "      <td>It works, but not as fast as expected</td>\n",
              "      <td>1384905600</td>\n",
              "      <td>2013-11-20</td>\n",
              "      <td>383</td>\n",
              "      <td>0</td>\n",
              "      <td>0</td>\n",
              "      <td>0.00</td>\n",
              "      <td>neg</td>\n",
              "    </tr>\n",
              "    <tr>\n",
              "      <th>12</th>\n",
              "      <td>AN2VFTXYW1SZU</td>\n",
              "      <td>B007WTAJTO</td>\n",
              "      <td>9z4cda</td>\n",
              "      <td>[0, 0]</td>\n",
              "      <td>name speak go sandisk go</td>\n",
              "      <td>5.00</td>\n",
              "      <td>A RENOUND NAME BRAND</td>\n",
              "      <td>1404432000</td>\n",
              "      <td>2014-04-07</td>\n",
              "      <td>245</td>\n",
              "      <td>0</td>\n",
              "      <td>0</td>\n",
              "      <td>0.00</td>\n",
              "      <td>neg</td>\n",
              "    </tr>\n",
              "    <tr>\n",
              "      <th>13</th>\n",
              "      <td>AVHN134ADVP4R</td>\n",
              "      <td>B007WTAJTO</td>\n",
              "      <td>A4Q96 \"Gadget Lover\"</td>\n",
              "      <td>[0, 0]</td>\n",
              "      <td>solid sdhc card fast read write fast record vi...</td>\n",
              "      <td>5.00</td>\n",
              "      <td>Great SDHC card</td>\n",
              "      <td>1384992000</td>\n",
              "      <td>2013-11-21</td>\n",
              "      <td>382</td>\n",
              "      <td>0</td>\n",
              "      <td>0</td>\n",
              "      <td>0.82</td>\n",
              "      <td>pos</td>\n",
              "    </tr>\n",
              "    <tr>\n",
              "      <th>14</th>\n",
              "      <td>A3EA7KGYC8LB0</td>\n",
              "      <td>B007WTAJTO</td>\n",
              "      <td>Aaron \"Aaron\"</td>\n",
              "      <td>[0, 0]</td>\n",
              "      <td>hear card write speed insufficient however use...</td>\n",
              "      <td>5.00</td>\n",
              "      <td>Use it for my GoPro Hero 3+ Black</td>\n",
              "      <td>1392595200</td>\n",
              "      <td>2014-02-17</td>\n",
              "      <td>294</td>\n",
              "      <td>0</td>\n",
              "      <td>0</td>\n",
              "      <td>0.31</td>\n",
              "      <td>pos</td>\n",
              "    </tr>\n",
              "    <tr>\n",
              "      <th>15</th>\n",
              "      <td>A29RI184HRX66H</td>\n",
              "      <td>B007WTAJTO</td>\n",
              "      <td>Aaron \"Aaron\"</td>\n",
              "      <td>[0, 0]</td>\n",
              "      <td>buy use go pro hero black edition require clas...</td>\n",
              "      <td>5.00</td>\n",
              "      <td>Awesome price, great brand name</td>\n",
              "      <td>1357257600</td>\n",
              "      <td>2013-04-01</td>\n",
              "      <td>616</td>\n",
              "      <td>0</td>\n",
              "      <td>0</td>\n",
              "      <td>0.72</td>\n",
              "      <td>pos</td>\n",
              "    </tr>\n",
              "    <tr>\n",
              "      <th>16</th>\n",
              "      <td>A2G9ZHVA6IOGBY</td>\n",
              "      <td>B007WTAJTO</td>\n",
              "      <td>Aaron Alvarez</td>\n",
              "      <td>[0, 0]</td>\n",
              "      <td>get gb one fill keep get insufficient disk spa...</td>\n",
              "      <td>5.00</td>\n",
              "      <td>great price. fast</td>\n",
              "      <td>1393718400</td>\n",
              "      <td>2014-02-03</td>\n",
              "      <td>308</td>\n",
              "      <td>0</td>\n",
              "      <td>0</td>\n",
              "      <td>0.85</td>\n",
              "      <td>pos</td>\n",
              "    </tr>\n",
              "    <tr>\n",
              "      <th>17</th>\n",
              "      <td>A1OATGH4DF0RF0</td>\n",
              "      <td>B007WTAJTO</td>\n",
              "      <td>Aaron F. Virginie</td>\n",
              "      <td>[0, 1]</td>\n",
              "      <td>class speed rat seamless full hd videothe sand...</td>\n",
              "      <td>5.00</td>\n",
              "      <td>Get Fast Load Times</td>\n",
              "      <td>1372896000</td>\n",
              "      <td>2013-04-07</td>\n",
              "      <td>610</td>\n",
              "      <td>0</td>\n",
              "      <td>1</td>\n",
              "      <td>0.89</td>\n",
              "      <td>pos</td>\n",
              "    </tr>\n",
              "    <tr>\n",
              "      <th>18</th>\n",
              "      <td>A1V6CQACZ9IOLC</td>\n",
              "      <td>B007WTAJTO</td>\n",
              "      <td>Aaron Graves</td>\n",
              "      <td>[0, 0]</td>\n",
              "      <td>read write speed better samsung sd card previo...</td>\n",
              "      <td>5.00</td>\n",
              "      <td>Very good little Micro SD card</td>\n",
              "      <td>1398988800</td>\n",
              "      <td>2014-02-05</td>\n",
              "      <td>306</td>\n",
              "      <td>0</td>\n",
              "      <td>0</td>\n",
              "      <td>0.85</td>\n",
              "      <td>pos</td>\n",
              "    </tr>\n",
              "    <tr>\n",
              "      <th>19</th>\n",
              "      <td>A2ELBSIZ26GKM2</td>\n",
              "      <td>B007WTAJTO</td>\n",
              "      <td>Aaron</td>\n",
              "      <td>[0, 0]</td>\n",
              "      <td>work nl video stutter like gb blah blah blah b...</td>\n",
              "      <td>5.00</td>\n",
              "      <td>works</td>\n",
              "      <td>1389052800</td>\n",
              "      <td>2014-07-01</td>\n",
              "      <td>160</td>\n",
              "      <td>0</td>\n",
              "      <td>0</td>\n",
              "      <td>-0.27</td>\n",
              "      <td>neg</td>\n",
              "    </tr>\n",
              "    <tr>\n",
              "      <th>20</th>\n",
              "      <td>A6AL9BZ0JALUP</td>\n",
              "      <td>B007WTAJTO</td>\n",
              "      <td>Aaron</td>\n",
              "      <td>[0, 0]</td>\n",
              "      <td>work expect high transfer speed nice extra mic...</td>\n",
              "      <td>5.00</td>\n",
              "      <td>Works</td>\n",
              "      <td>1382832000</td>\n",
              "      <td>2013-10-27</td>\n",
              "      <td>407</td>\n",
              "      <td>0</td>\n",
              "      <td>0</td>\n",
              "      <td>0.42</td>\n",
              "      <td>pos</td>\n",
              "    </tr>\n",
              "  </tbody>\n",
              "</table>\n",
              "</div>\n",
              "      <button class=\"colab-df-convert\" onclick=\"convertToInteractive('df-d3ae5b7f-6e70-405c-a809-525486e8a8c6')\"\n",
              "              title=\"Convert this dataframe to an interactive table.\"\n",
              "              style=\"display:none;\">\n",
              "        \n",
              "  <svg xmlns=\"http://www.w3.org/2000/svg\" height=\"24px\"viewBox=\"0 0 24 24\"\n",
              "       width=\"24px\">\n",
              "    <path d=\"M0 0h24v24H0V0z\" fill=\"none\"/>\n",
              "    <path d=\"M18.56 5.44l.94 2.06.94-2.06 2.06-.94-2.06-.94-.94-2.06-.94 2.06-2.06.94zm-11 1L8.5 8.5l.94-2.06 2.06-.94-2.06-.94L8.5 2.5l-.94 2.06-2.06.94zm10 10l.94 2.06.94-2.06 2.06-.94-2.06-.94-.94-2.06-.94 2.06-2.06.94z\"/><path d=\"M17.41 7.96l-1.37-1.37c-.4-.4-.92-.59-1.43-.59-.52 0-1.04.2-1.43.59L10.3 9.45l-7.72 7.72c-.78.78-.78 2.05 0 2.83L4 21.41c.39.39.9.59 1.41.59.51 0 1.02-.2 1.41-.59l7.78-7.78 2.81-2.81c.8-.78.8-2.07 0-2.86zM5.41 20L4 18.59l7.72-7.72 1.47 1.35L5.41 20z\"/>\n",
              "  </svg>\n",
              "      </button>\n",
              "      \n",
              "  <style>\n",
              "    .colab-df-container {\n",
              "      display:flex;\n",
              "      flex-wrap:wrap;\n",
              "      gap: 12px;\n",
              "    }\n",
              "\n",
              "    .colab-df-convert {\n",
              "      background-color: #E8F0FE;\n",
              "      border: none;\n",
              "      border-radius: 50%;\n",
              "      cursor: pointer;\n",
              "      display: none;\n",
              "      fill: #1967D2;\n",
              "      height: 32px;\n",
              "      padding: 0 0 0 0;\n",
              "      width: 32px;\n",
              "    }\n",
              "\n",
              "    .colab-df-convert:hover {\n",
              "      background-color: #E2EBFA;\n",
              "      box-shadow: 0px 1px 2px rgba(60, 64, 67, 0.3), 0px 1px 3px 1px rgba(60, 64, 67, 0.15);\n",
              "      fill: #174EA6;\n",
              "    }\n",
              "\n",
              "    [theme=dark] .colab-df-convert {\n",
              "      background-color: #3B4455;\n",
              "      fill: #D2E3FC;\n",
              "    }\n",
              "\n",
              "    [theme=dark] .colab-df-convert:hover {\n",
              "      background-color: #434B5C;\n",
              "      box-shadow: 0px 1px 3px 1px rgba(0, 0, 0, 0.15);\n",
              "      filter: drop-shadow(0px 1px 2px rgba(0, 0, 0, 0.3));\n",
              "      fill: #FFFFFF;\n",
              "    }\n",
              "  </style>\n",
              "\n",
              "      <script>\n",
              "        const buttonEl =\n",
              "          document.querySelector('#df-d3ae5b7f-6e70-405c-a809-525486e8a8c6 button.colab-df-convert');\n",
              "        buttonEl.style.display =\n",
              "          google.colab.kernel.accessAllowed ? 'block' : 'none';\n",
              "\n",
              "        async function convertToInteractive(key) {\n",
              "          const element = document.querySelector('#df-d3ae5b7f-6e70-405c-a809-525486e8a8c6');\n",
              "          const dataTable =\n",
              "            await google.colab.kernel.invokeFunction('convertToInteractive',\n",
              "                                                     [key], {});\n",
              "          if (!dataTable) return;\n",
              "\n",
              "          const docLinkHtml = 'Like what you see? Visit the ' +\n",
              "            '<a target=\"_blank\" href=https://colab.research.google.com/notebooks/data_table.ipynb>data table notebook</a>'\n",
              "            + ' to learn more about interactive tables.';\n",
              "          element.innerHTML = '';\n",
              "          dataTable['output_type'] = 'display_data';\n",
              "          await google.colab.output.renderOutput(dataTable, element);\n",
              "          const docLink = document.createElement('div');\n",
              "          docLink.innerHTML = docLinkHtml;\n",
              "          element.appendChild(docLink);\n",
              "        }\n",
              "      </script>\n",
              "    </div>\n",
              "  </div>\n",
              "  "
            ]
          },
          "metadata": {},
          "execution_count": 28
        }
      ]
    },
    {
      "cell_type": "code",
      "source": [
        "df[\"sentiment_label\"].value_counts()"
      ],
      "metadata": {
        "colab": {
          "base_uri": "https://localhost:8080/"
        },
        "id": "1DaXhHkysRjL",
        "outputId": "00331c25-ee2f-4109-b4f0-82900c082458"
      },
      "execution_count": 29,
      "outputs": [
        {
          "output_type": "execute_result",
          "data": {
            "text/plain": [
              "pos    3944\n",
              "neg     969\n",
              "Name: sentiment_label, dtype: int64"
            ]
          },
          "metadata": {},
          "execution_count": 29
        }
      ]
    },
    {
      "cell_type": "code",
      "source": [
        "# one more question, what I'm wondering is, is there any difference between the neg-pos labels in terms of the given points?\n",
        "df.groupby(\"sentiment_label\")[\"overall\"].mean()"
      ],
      "metadata": {
        "colab": {
          "base_uri": "https://localhost:8080/"
        },
        "id": "bRtbIFr0sc_5",
        "outputId": "90aa891e-bddc-4b38-c34f-f52a371b0c15"
      },
      "execution_count": 30,
      "outputs": [
        {
          "output_type": "execute_result",
          "data": {
            "text/plain": [
              "sentiment_label\n",
              "neg   4.06\n",
              "pos   4.72\n",
              "Name: overall, dtype: float64"
            ]
          },
          "metadata": {},
          "execution_count": 30
        }
      ]
    },
    {
      "cell_type": "code",
      "source": [
        "df[\"sentiment_label\"] = LabelEncoder().fit_transform(df[\"sentiment_label\"])\n",
        "\n",
        "X = df[\"reviewText\"]\n",
        "y = df[\"sentiment_label\"]"
      ],
      "metadata": {
        "id": "amdyRv55sjph"
      },
      "execution_count": 31,
      "outputs": []
    },
    {
      "cell_type": "code",
      "source": [
        "# ngram\n",
        "a = \" I liked this music but it is not good as the other one \"\n",
        "\n",
        "TextBlob(a).ngrams(2)"
      ],
      "metadata": {
        "colab": {
          "base_uri": "https://localhost:8080/"
        },
        "id": "nmvQrngszP0j",
        "outputId": "c1ffa1bc-38c7-4ba6-bd2a-48adb8b556d7"
      },
      "execution_count": 32,
      "outputs": [
        {
          "output_type": "execute_result",
          "data": {
            "text/plain": [
              "[WordList(['I', 'liked']),\n",
              " WordList(['liked', 'this']),\n",
              " WordList(['this', 'music']),\n",
              " WordList(['music', 'but']),\n",
              " WordList(['but', 'it']),\n",
              " WordList(['it', 'is']),\n",
              " WordList(['is', 'not']),\n",
              " WordList(['not', 'good']),\n",
              " WordList(['good', 'as']),\n",
              " WordList(['as', 'the']),\n",
              " WordList(['the', 'other']),\n",
              " WordList(['other', 'one'])]"
            ]
          },
          "metadata": {},
          "execution_count": 32
        }
      ]
    },
    {
      "cell_type": "code",
      "source": [
        "# Count Vectors\n",
        "\n",
        "from sklearn.feature_extraction.text import CountVectorizer\n",
        "\n",
        "corpus = ['This is the first document.',\n",
        "          'This document is the second document.',\n",
        "          'And this is the third one.',\n",
        "          'Is this the first document?']\n",
        "\n",
        "vectorizer = CountVectorizer()\n",
        "X_c = vectorizer.fit_transform(corpus)\n",
        "vectorizer.get_feature_names()\n",
        "X_c.toarray()"
      ],
      "metadata": {
        "colab": {
          "base_uri": "https://localhost:8080/"
        },
        "id": "Ts7iO5lSzg-x",
        "outputId": "e9a62b0f-c9d6-4aa8-a56f-ab528c93b5c8"
      },
      "execution_count": 33,
      "outputs": [
        {
          "output_type": "execute_result",
          "data": {
            "text/plain": [
              "array([[0, 1, 1, 1, 0, 0, 1, 0, 1],\n",
              "       [0, 2, 0, 1, 0, 1, 1, 0, 1],\n",
              "       [1, 0, 0, 1, 1, 0, 1, 1, 1],\n",
              "       [0, 1, 1, 1, 0, 0, 1, 0, 1]])"
            ]
          },
          "metadata": {},
          "execution_count": 33
        }
      ]
    },
    {
      "cell_type": "code",
      "source": [
        "# n-gram frekans\n",
        "\n",
        "vectorizer2 = CountVectorizer(analyzer='word', ngram_range=(2, 2))\n",
        "X_n = vectorizer2.fit_transform(corpus)\n",
        "vectorizer2.get_feature_names()\n",
        "X_n.toarray()"
      ],
      "metadata": {
        "colab": {
          "base_uri": "https://localhost:8080/"
        },
        "id": "1nsgtLRKzwUe",
        "outputId": "d0ea72f7-5a1b-41ee-9f44-b1584f39e48a"
      },
      "execution_count": 34,
      "outputs": [
        {
          "output_type": "execute_result",
          "data": {
            "text/plain": [
              "array([[0, 0, 1, 1, 0, 0, 1, 0, 0, 0, 0, 1, 0],\n",
              "       [0, 1, 0, 1, 0, 1, 0, 1, 0, 0, 1, 0, 0],\n",
              "       [1, 0, 0, 1, 0, 0, 0, 0, 1, 1, 0, 1, 0],\n",
              "       [0, 0, 1, 0, 1, 0, 1, 0, 0, 0, 0, 0, 1]])"
            ]
          },
          "metadata": {},
          "execution_count": 34
        }
      ]
    },
    {
      "cell_type": "code",
      "source": [
        "# Application to data:\n",
        "vectorizer = CountVectorizer()\n",
        "X_count = vectorizer.fit_transform(X)\n",
        "\n",
        "vectorizer.get_feature_names()[10:15]\n",
        "X_count.toarray()[10:15]"
      ],
      "metadata": {
        "colab": {
          "base_uri": "https://localhost:8080/"
        },
        "id": "sg7loTra0BMk",
        "outputId": "618ecf4a-ada7-47fe-ae2f-bc94c67b4adf"
      },
      "execution_count": 35,
      "outputs": [
        {
          "output_type": "execute_result",
          "data": {
            "text/plain": [
              "array([[0, 0, 0, ..., 0, 0, 0],\n",
              "       [0, 0, 0, ..., 0, 0, 0],\n",
              "       [0, 0, 0, ..., 0, 0, 0],\n",
              "       [0, 0, 0, ..., 0, 0, 0],\n",
              "       [0, 0, 0, ..., 0, 0, 0]])"
            ]
          },
          "metadata": {},
          "execution_count": 35
        }
      ]
    },
    {
      "cell_type": "markdown",
      "source": [
        "# TF-IDF"
      ],
      "metadata": {
        "id": "D_jzmp5U0mvF"
      }
    },
    {
      "cell_type": "code",
      "source": [
        "# word tf-idf\n",
        "from sklearn.feature_extraction.text import TfidfVectorizer\n",
        "vectorizer = TfidfVectorizer(analyzer='word')\n",
        "X_w = vectorizer.fit_transform(corpus)\n",
        "vectorizer.get_feature_names()\n",
        "X_w.toarray()"
      ],
      "metadata": {
        "colab": {
          "base_uri": "https://localhost:8080/"
        },
        "id": "mAiXvbyw0T_a",
        "outputId": "21cccd5f-bef2-4dee-d290-d67f169e9379"
      },
      "execution_count": 36,
      "outputs": [
        {
          "output_type": "execute_result",
          "data": {
            "text/plain": [
              "array([[0.        , 0.46979139, 0.58028582, 0.38408524, 0.        ,\n",
              "        0.        , 0.38408524, 0.        , 0.38408524],\n",
              "       [0.        , 0.6876236 , 0.        , 0.28108867, 0.        ,\n",
              "        0.53864762, 0.28108867, 0.        , 0.28108867],\n",
              "       [0.51184851, 0.        , 0.        , 0.26710379, 0.51184851,\n",
              "        0.        , 0.26710379, 0.51184851, 0.26710379],\n",
              "       [0.        , 0.46979139, 0.58028582, 0.38408524, 0.        ,\n",
              "        0.        , 0.38408524, 0.        , 0.38408524]])"
            ]
          },
          "metadata": {},
          "execution_count": 36
        }
      ]
    },
    {
      "cell_type": "code",
      "source": [
        "# n-gram tf-idf\n",
        "from sklearn.feature_extraction.text import TfidfVectorizer\n",
        "vectorizer = TfidfVectorizer(ngram_range=(2, 3))\n",
        "X_n = vectorizer.fit_transform(corpus)\n",
        "vectorizer.get_feature_names()\n",
        "X_n.toarray()"
      ],
      "metadata": {
        "colab": {
          "base_uri": "https://localhost:8080/"
        },
        "id": "FvdTeLHC0skZ",
        "outputId": "efc1d797-5c6c-4ad5-fcb3-b70ced7f15a6"
      },
      "execution_count": 37,
      "outputs": [
        {
          "output_type": "execute_result",
          "data": {
            "text/plain": [
              "array([[0.        , 0.        , 0.        , 0.        , 0.37102749,\n",
              "        0.30037873, 0.47060133, 0.        , 0.        , 0.        ,\n",
              "        0.        , 0.        , 0.37102749, 0.37102749, 0.        ,\n",
              "        0.        , 0.        , 0.        , 0.        , 0.        ,\n",
              "        0.        , 0.37102749, 0.37102749, 0.        , 0.        ],\n",
              "       [0.        , 0.        , 0.34488069, 0.34488069, 0.        ,\n",
              "        0.22013288, 0.        , 0.34488069, 0.        , 0.        ,\n",
              "        0.        , 0.34488069, 0.        , 0.        , 0.34488069,\n",
              "        0.34488069, 0.        , 0.        , 0.        , 0.34488069,\n",
              "        0.34488069, 0.        , 0.        , 0.        , 0.        ],\n",
              "       [0.36153669, 0.36153669, 0.        , 0.        , 0.        ,\n",
              "        0.23076418, 0.        , 0.        , 0.36153669, 0.        ,\n",
              "        0.        , 0.        , 0.        , 0.        , 0.        ,\n",
              "        0.        , 0.36153669, 0.36153669, 0.36153669, 0.        ,\n",
              "        0.        , 0.28503968, 0.28503968, 0.        , 0.        ],\n",
              "       [0.        , 0.        , 0.        , 0.        , 0.32555709,\n",
              "        0.        , 0.        , 0.        , 0.        , 0.41292788,\n",
              "        0.41292788, 0.        , 0.32555709, 0.32555709, 0.        ,\n",
              "        0.        , 0.        , 0.        , 0.        , 0.        ,\n",
              "        0.        , 0.        , 0.        , 0.41292788, 0.41292788]])"
            ]
          },
          "metadata": {},
          "execution_count": 37
        }
      ]
    },
    {
      "cell_type": "code",
      "source": [
        "tf_idf_word_vectorizer = TfidfVectorizer()\n",
        "X_tf_idf_word = tf_idf_word_vectorizer.fit_transform(X)"
      ],
      "metadata": {
        "id": "ST6L-oRE1O4Q"
      },
      "execution_count": 38,
      "outputs": []
    },
    {
      "cell_type": "code",
      "source": [
        ""
      ],
      "metadata": {
        "id": "wI8STYok1j4m"
      },
      "execution_count": 38,
      "outputs": []
    },
    {
      "cell_type": "markdown",
      "source": [
        "# `5.` Modeling"
      ],
      "metadata": {
        "id": "8WRf1Mca1mdr"
      }
    },
    {
      "cell_type": "markdown",
      "source": [
        "## Logistic Regression"
      ],
      "metadata": {
        "id": "dvMWQXFT_xMt"
      }
    },
    {
      "cell_type": "code",
      "source": [
        "from sklearn.linear_model import LogisticRegression\n",
        "\n",
        "log_model = LogisticRegression()\n",
        "log_model.fit(X_tf_idf_word, y)\n",
        "\n",
        "cross_val_score(log_model, X_tf_idf_word, y, scoring=\"accuracy\", cv=5).mean()\n",
        "\n",
        "yeni_yorum1 = pd.Series(\"this product is great\")\n",
        "yeni_yorum2 = pd.Series(\"look at that shit very bad\")\n",
        "yeni_yorum3 = pd.Series(\"it was good but I am sure that it fits me\")\n",
        "\n",
        "C_V = CountVectorizer()\n",
        "model= C_V.fit(X)\n",
        "after_transform= model.transform(yeni_yorum1)\n",
        "log_model.predict(after_transform)"
      ],
      "metadata": {
        "colab": {
          "base_uri": "https://localhost:8080/"
        },
        "id": "3oMb6nkh1qBQ",
        "outputId": "0fce0f93-1996-47a2-95c9-5fe6c691d73e"
      },
      "execution_count": 39,
      "outputs": [
        {
          "output_type": "execute_result",
          "data": {
            "text/plain": [
              "array([1])"
            ]
          },
          "metadata": {},
          "execution_count": 39
        }
      ]
    },
    {
      "cell_type": "code",
      "source": [
        "C_V = CountVectorizer()\n",
        "model= C_V.fit(X)\n",
        "after_transform= model.transform(yeni_yorum2)\n",
        "log_model.predict(after_transform)"
      ],
      "metadata": {
        "colab": {
          "base_uri": "https://localhost:8080/"
        },
        "id": "rD6OKcoO8mkX",
        "outputId": "c04c548e-1a4d-4eb7-d0cd-a55ae4b8e9e9"
      },
      "execution_count": 40,
      "outputs": [
        {
          "output_type": "execute_result",
          "data": {
            "text/plain": [
              "array([0])"
            ]
          },
          "metadata": {},
          "execution_count": 40
        }
      ]
    },
    {
      "cell_type": "code",
      "source": [
        "C_V = CountVectorizer()\n",
        "model= C_V.fit(X)\n",
        "after_transform= model.transform(yeni_yorum3)\n",
        "log_model.predict(after_transform)"
      ],
      "metadata": {
        "colab": {
          "base_uri": "https://localhost:8080/"
        },
        "id": "_z-231eE8mug",
        "outputId": "0a92a8fd-e3ba-45f4-84e3-a7b62e0e521c"
      },
      "execution_count": 41,
      "outputs": [
        {
          "output_type": "execute_result",
          "data": {
            "text/plain": [
              "array([1])"
            ]
          },
          "metadata": {},
          "execution_count": 41
        }
      ]
    },
    {
      "cell_type": "code",
      "source": [
        "# get any random review to predict it:\n",
        "random_review = pd.Series(df[\"reviewText\"].sample(1).values)          # values to convert it to array then put this array in Series\n",
        "random_review"
      ],
      "metadata": {
        "id": "UF5UJiGG2VN2",
        "colab": {
          "base_uri": "https://localhost:8080/"
        },
        "outputId": "37364cd3-31ae-46bc-9eb8-f9d6cf9298b8"
      },
      "execution_count": 42,
      "outputs": [
        {
          "output_type": "execute_result",
          "data": {
            "text/plain": [
              "0    work like memory card work save stuff delete s...\n",
              "dtype: object"
            ]
          },
          "metadata": {},
          "execution_count": 42
        }
      ]
    },
    {
      "cell_type": "code",
      "source": [
        "new_comment = CountVectorizer().fit(X).transform(random_review)       # must random_review as pd.Series or Dataframe\n",
        "log_model.predict(new_comment)"
      ],
      "metadata": {
        "id": "xYaJNnZM-gRQ",
        "colab": {
          "base_uri": "https://localhost:8080/"
        },
        "outputId": "10bc82b2-6009-4899-dfa9-d022fdf326b4"
      },
      "execution_count": 43,
      "outputs": [
        {
          "output_type": "execute_result",
          "data": {
            "text/plain": [
              "array([1])"
            ]
          },
          "metadata": {},
          "execution_count": 43
        }
      ]
    },
    {
      "cell_type": "markdown",
      "source": [
        "## Random Forests"
      ],
      "metadata": {
        "id": "O0JFVZMR_r_v"
      }
    },
    {
      "cell_type": "code",
      "source": [
        "from sklearn.ensemble import RandomForestClassifier\n",
        "\n",
        "rf_model = RandomForestClassifier()\n",
        "rf_model.fit(X_tf_idf_word, y)\n",
        "\n",
        "cross_val_score(rf_model, X_tf_idf_word, y, scoring=\"accuracy\", cv=5).mean()\n",
        "\n",
        "yeni_yorum1 = pd.Series(\"this product is great\")\n",
        "yeni_yorum2 = pd.Series(\"look at that shit very bad\")\n",
        "yeni_yorum3 = pd.Series(\"it was good but I am sure that it fits me\")\n",
        "\n",
        "C_V = CountVectorizer()\n",
        "model= C_V.fit(X)\n",
        "after_transform= model.transform(yeni_yorum1)\n",
        "rf_model.predict(after_transform)"
      ],
      "metadata": {
        "colab": {
          "base_uri": "https://localhost:8080/"
        },
        "id": "M0RsOR23_s69",
        "outputId": "f5b01a0c-4ba2-4b87-875b-6df7595bf723"
      },
      "execution_count": 44,
      "outputs": [
        {
          "output_type": "execute_result",
          "data": {
            "text/plain": [
              "array([1])"
            ]
          },
          "metadata": {},
          "execution_count": 44
        }
      ]
    },
    {
      "cell_type": "code",
      "source": [
        "C_V = CountVectorizer()\n",
        "model= C_V.fit(X)\n",
        "after_transform= model.transform(yeni_yorum2)\n",
        "rf_model.predict(after_transform)"
      ],
      "metadata": {
        "colab": {
          "base_uri": "https://localhost:8080/"
        },
        "id": "5ZVMOUY4AJKl",
        "outputId": "f46cb363-9fe9-4bd1-b4b4-41c611562f17"
      },
      "execution_count": 45,
      "outputs": [
        {
          "output_type": "execute_result",
          "data": {
            "text/plain": [
              "array([0])"
            ]
          },
          "metadata": {},
          "execution_count": 45
        }
      ]
    },
    {
      "cell_type": "code",
      "source": [
        "C_V = CountVectorizer()\n",
        "model= C_V.fit(X)\n",
        "after_transform= model.transform(yeni_yorum3)\n",
        "rf_model.predict(after_transform)"
      ],
      "metadata": {
        "colab": {
          "base_uri": "https://localhost:8080/"
        },
        "id": "BA6vol0zAXRY",
        "outputId": "e6fdefba-3c1c-47c3-bc11-141c8dc33d28"
      },
      "execution_count": 46,
      "outputs": [
        {
          "output_type": "execute_result",
          "data": {
            "text/plain": [
              "array([1])"
            ]
          },
          "metadata": {},
          "execution_count": 46
        }
      ]
    },
    {
      "cell_type": "code",
      "source": [
        "# get any random review to predict it:\n",
        "random_review = pd.Series(df[\"reviewText\"].sample(1).values)          # values to convert it to array then put this array in Series\n",
        "random_review"
      ],
      "metadata": {
        "colab": {
          "base_uri": "https://localhost:8080/"
        },
        "id": "hhAqZtANAdpE",
        "outputId": "a7c602dc-7f19-490f-a4f2-78cca1979ed9"
      },
      "execution_count": 47,
      "outputs": [
        {
          "output_type": "execute_result",
          "data": {
            "text/plain": [
              "0    store data good job else say something become ...\n",
              "dtype: object"
            ]
          },
          "metadata": {},
          "execution_count": 47
        }
      ]
    },
    {
      "cell_type": "code",
      "source": [
        "new_comment = CountVectorizer().fit(X).transform(random_review)       # must random_review as pd.Series or Dataframe\n",
        "rf_model.predict(new_comment)"
      ],
      "metadata": {
        "colab": {
          "base_uri": "https://localhost:8080/"
        },
        "id": "43HAuZeFAh9E",
        "outputId": "4ad5ba98-b9a7-4b84-e744-d629b7576fef"
      },
      "execution_count": 48,
      "outputs": [
        {
          "output_type": "execute_result",
          "data": {
            "text/plain": [
              "array([1])"
            ]
          },
          "metadata": {},
          "execution_count": 48
        }
      ]
    },
    {
      "cell_type": "code",
      "source": [
        "vectorizer = CountVectorizer()\n",
        "X_count = vectorizer.fit_transform(X)\n",
        "\n",
        "rf_model = RandomForestClassifier()\n",
        "rf_model.fit(X_count, y)\n",
        "\n",
        "cross_val_score(rf_model, X_count, y, cv=5, n_jobs=-1).mean()"
      ],
      "metadata": {
        "colab": {
          "base_uri": "https://localhost:8080/"
        },
        "id": "QTd5QOT9Aki2",
        "outputId": "b9997a4e-686b-4fd5-9306-8cf7a288511d"
      },
      "execution_count": 49,
      "outputs": [
        {
          "output_type": "execute_result",
          "data": {
            "text/plain": [
              "0.8259716607997879"
            ]
          },
          "metadata": {},
          "execution_count": 49
        }
      ]
    },
    {
      "cell_type": "code",
      "source": [
        "tf_idf_word_vectorizer = TfidfVectorizer()\n",
        "X_tf_idf_word = tf_idf_word_vectorizer.fit_transform(X)\n",
        "\n",
        "rf_model = RandomForestClassifier()\n",
        "rf_model.fit(X_tf_idf_word, y)\n",
        "\n",
        "cross_val_score(rf_model, X_tf_idf_word, y, cv=5, n_jobs=-1).mean()"
      ],
      "metadata": {
        "colab": {
          "base_uri": "https://localhost:8080/"
        },
        "id": "0pdXcH5kBPf0",
        "outputId": "91d5a8f1-0630-499f-fda2-374baab9cd57"
      },
      "execution_count": 50,
      "outputs": [
        {
          "output_type": "execute_result",
          "data": {
            "text/plain": [
              "0.8155907038804276"
            ]
          },
          "metadata": {},
          "execution_count": 50
        }
      ]
    },
    {
      "cell_type": "code",
      "source": [
        "# COUNT-Vectorizer N-GRAM\n",
        "vectorizer_ngrams = CountVectorizer(analyzer='word', ngram_range=(2, 2))\n",
        "X_vectorizer_ngram = vectorizer_ngrams.fit_transform(X)\n",
        "\n",
        "rf_model = RandomForestClassifier()\n",
        "rf_model.fit(X_vectorizer_ngram, y)\n",
        "\n",
        "cross_val_score(rf_model, X_vectorizer_ngram, y, cv=5, n_jobs=-1).mean()"
      ],
      "metadata": {
        "colab": {
          "base_uri": "https://localhost:8080/"
        },
        "id": "WopusiyDDLRu",
        "outputId": "6d3ccd56-cf14-4ded-c813-1d40c4e54cce"
      },
      "execution_count": 51,
      "outputs": [
        {
          "output_type": "execute_result",
          "data": {
            "text/plain": [
              "0.8017509473679848"
            ]
          },
          "metadata": {},
          "execution_count": 51
        }
      ]
    },
    {
      "cell_type": "code",
      "source": [
        "# TF-IDF N-GRAM\n",
        "tf_idf_ngrams_word_vectorizer = TfidfVectorizer(ngram_range=(2, 3))\n",
        "X_tf_idf_ngram = tf_idf_ngrams_word_vectorizer.fit_transform(X)\n",
        "\n",
        "rf_model = RandomForestClassifier()\n",
        "rf_model.fit(X_tf_idf_ngram, y)\n",
        "\n",
        "cross_val_score(rf_model, X_tf_idf_ngram, y, cv=5, n_jobs=-1).mean()"
      ],
      "metadata": {
        "colab": {
          "base_uri": "https://localhost:8080/"
        },
        "id": "zu44aORgBoWe",
        "outputId": "c3687caa-c4e7-462e-c283-b1f6ca211cfd"
      },
      "execution_count": 52,
      "outputs": [
        {
          "output_type": "execute_result",
          "data": {
            "text/plain": [
              "0.8029717001655434"
            ]
          },
          "metadata": {},
          "execution_count": 52
        }
      ]
    },
    {
      "cell_type": "code",
      "source": [
        ""
      ],
      "metadata": {
        "id": "KtoKkb0YDGBV"
      },
      "execution_count": 52,
      "outputs": []
    },
    {
      "cell_type": "markdown",
      "source": [
        "## Grid-Search"
      ],
      "metadata": {
        "id": "OiESoegtED9v"
      }
    },
    {
      "cell_type": "code",
      "source": [
        "# Hyperparameter Optimization\n",
        "\n",
        "rf_model = RandomForestClassifier(random_state= 42)\n",
        "\n",
        "rf_params = {\"max_depth\": [5, 8, None],\n",
        "             \"max_features\": [5, 7, \"auto\"],\n",
        "             \"min_samples_split\": [2, 5, 8, 20],\n",
        "             \"n_estimators\": [100, 200, 500]}\n",
        "\n",
        "rf_best_grid = GridSearchCV(rf_model,\n",
        "                            rf_params,\n",
        "                            cv=5,\n",
        "                            n_jobs=-1,\n",
        "                            verbose=True)\n",
        "rf_best_grid.fit(X_count, y)\n",
        "\n",
        "best_params= rf_best_grid.best_params_\n",
        "\n",
        "rf_final = rf_model.set_params(**best_params, random_state= 42)\n",
        "rf_final.fit(X_count, y)\n",
        "\n",
        "cv_results = cross_validate(rf_final, X_count, y, cv=3, scoring=[\"accuracy\", \"f1\", \"roc_auc\"])\n",
        "\n",
        "print(rf_best_grid.best_params_)\n",
        "print(rf_final)\n",
        "print(cv_results)"
      ],
      "metadata": {
        "colab": {
          "base_uri": "https://localhost:8080/"
        },
        "id": "RN6QCzLcEDE3",
        "outputId": "dae24d80-e1c4-4cf1-a447-40129cc8cb62"
      },
      "execution_count": 53,
      "outputs": [
        {
          "output_type": "stream",
          "name": "stdout",
          "text": [
            "Fitting 5 folds for each of 108 candidates, totalling 540 fits\n",
            "{'max_depth': None, 'max_features': 'auto', 'min_samples_split': 2, 'n_estimators': 100}\n",
            "RandomForestClassifier(random_state=42)\n",
            "{'fit_time': array([2.45113039, 2.43061757, 2.43096733]), 'score_time': array([0.13395762, 0.13488531, 0.1341753 ]), 'test_accuracy': array([0.82417582, 0.83028083, 0.82040318]), 'test_f1': array([0.90055249, 0.90380623, 0.89798751]), 'test_roc_auc': array([0.85893418, 0.88748543, 0.85607485])}\n"
          ]
        }
      ]
    },
    {
      "cell_type": "code",
      "source": [
        "# Hyperparameter Optimization\n",
        "\n",
        "rf_model = RandomForestClassifier(random_state= 42)\n",
        "\n",
        "rf_params = {\"max_depth\": [5, 8, None],\n",
        "             \"max_features\": [5, 7, \"auto\"],\n",
        "             \"min_samples_split\": [2, 5, 8, 20],\n",
        "             \"n_estimators\": [100, 200, 500]}\n",
        "\n",
        "rf_best_grid = GridSearchCV(rf_model,\n",
        "                            rf_params,\n",
        "                            cv=5,\n",
        "                            n_jobs=-1,\n",
        "                            verbose=True)\n",
        "rf_best_grid.fit(X_tf_idf_word, y)\n",
        "\n",
        "best_params= rf_best_grid.best_params_\n",
        "\n",
        "rf_final = rf_model.set_params(**best_params, random_state= 42)\n",
        "rf_final.fit(X_tf_idf_word, y)\n",
        "\n",
        "cv_results = cross_validate(rf_final, X_tf_idf_word, y, cv=3, scoring=[\"accuracy\", \"f1\", \"roc_auc\"])\n",
        "\n",
        "print(rf_best_grid.best_params_)\n",
        "print(rf_final)\n",
        "print(cv_results)"
      ],
      "metadata": {
        "colab": {
          "base_uri": "https://localhost:8080/"
        },
        "id": "TntEGMHdFJvu",
        "outputId": "9361d98c-27b3-404d-c946-9b50d1bf86cf"
      },
      "execution_count": 54,
      "outputs": [
        {
          "output_type": "stream",
          "name": "stdout",
          "text": [
            "Fitting 5 folds for each of 108 candidates, totalling 540 fits\n",
            "{'max_depth': None, 'max_features': 'auto', 'min_samples_split': 2, 'n_estimators': 100}\n",
            "RandomForestClassifier(random_state=42)\n",
            "{'fit_time': array([2.61799073, 2.54860449, 2.61712956]), 'score_time': array([0.14337802, 0.14141011, 0.14753675]), 'test_accuracy': array([0.81990232, 0.81501832, 0.81185095]), 'test_f1': array([0.89900719, 0.89633938, 0.89437586]), 'test_roc_auc': array([0.82513155, 0.85638913, 0.83643166])}\n"
          ]
        }
      ]
    }
  ]
}